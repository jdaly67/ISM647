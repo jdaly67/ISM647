{
 "cells": [
  {
   "cell_type": "markdown",
   "id": "9361cfd1",
   "metadata": {},
   "source": [
    "# Week 10 Lab: Introduction to Supervised Learning - Classification"
   ]
  },
  {
   "cell_type": "markdown",
   "id": "387c677e",
   "metadata": {},
   "source": [
    "**Course:** ISM 645\n",
    "\n",
    "**Instructor:** Dr. Shimi Zhou"
   ]
  },
  {
   "cell_type": "markdown",
   "id": "7f505d85",
   "metadata": {},
   "source": [
    "## Supervised Learning\n",
    "\n",
    "Supervised Learning Overview\n",
    "Supervised learning refers to the machine learning task of learning a function that maps an input to an output based on example input-output pairs. It uses labeled data.\n",
    "* There are two main types of supervised learning:\n",
    "**Regression*: When the target variable is continuous (e.g., predicting house prices).\n",
    "**Classification*: When the target variable is categorical (e.g., classifying whether an email is spam or not).\n"
   ]
  },
  {
   "cell_type": "markdown",
   "id": "d3e5f5e5",
   "metadata": {},
   "source": [
    "## What is Classification?\n",
    "1. Classification is a type of supervised learning where the goal is to predict the __class__ or __category__ to which a new observation belongs, based on labeled data.\n",
    "2. __Logistic Regression__ is one of the popular algorithms used for classification tasks."
   ]
  },
  {
   "cell_type": "markdown",
   "id": "6873a225",
   "metadata": {},
   "source": [
    "### Logistic Regression - Introduction\n",
    "\n",
    "Logistic Regression is used to predict the probability of a binary outcome (1/0, True/False).\n",
    "1. It estimates the probability that a data point belongs to a certain class.\n",
    "2. If the probability is greater than a threshold (usually 0.5), the model classifies the data as one class; otherwise, it is classified as the other.\n"
   ]
  },
  {
   "cell_type": "code",
   "execution_count": 42,
   "id": "1014a8dc",
   "metadata": {},
   "outputs": [],
   "source": [
    "# Importing required libraries\n",
    "import numpy as np\n",
    "import pandas as pd\n",
    "import matplotlib.pyplot as plt\n",
    "# train_test_split: This function from sklearn.model_selection is used to split the dataset into training and test sets.\n",
    "from sklearn.model_selection import train_test_split\n",
    "from sklearn.linear_model import LinearRegression, LogisticRegression\n",
    "from sklearn.metrics import mean_squared_error, accuracy_score, confusion_matrix, classification_report\n",
    "from sklearn.cluster import KMeans\n",
    "from sklearn.datasets import load_iris, load_wine\n",
    "import seaborn as sns"
   ]
  },
  {
   "cell_type": "markdown",
   "id": "2707ea56",
   "metadata": {},
   "source": [
    "### Example 1: Logistic Regression with the Iris Dataset\n",
    "\n",
    "load_iris(): This function loads the Iris dataset, which consists of 150 samples of iris flowers and 4 features (sepal length, sepal width, petal length, and petal width). The target variable indicates the species of iris flowers: 0 = Setosa, 1 = Versicolor, 2 = Virginica."
   ]
  },
  {
   "cell_type": "code",
   "execution_count": 31,
   "id": "0ebfd706",
   "metadata": {},
   "outputs": [],
   "source": [
    "# Load the Iris dataset\n",
    "iris = load_iris()\n",
    "X = iris.data #input\n",
    "y = iris.target #output"
   ]
  },
  {
   "cell_type": "code",
   "execution_count": 32,
   "id": "f76b86e5",
   "metadata": {},
   "outputs": [],
   "source": [
    "# Standardize the features\n",
    "# Standardization: Logistic regression works best when features are on the same scale. \n",
    "# The StandardScaler subtracts the mean and divides by the standard deviation, transforming the features to have a mean of 0 and a standard deviation of 1.\n",
    "scaler = StandardScaler()\n",
    "X = scaler.fit_transform(X)"
   ]
  },
  {
   "cell_type": "code",
   "execution_count": 33,
   "id": "50a35a33",
   "metadata": {},
   "outputs": [],
   "source": [
    "# Split the data into training and testing sets (80% train, 20% test)\n",
    "# random_state: Ensures reproducibility by fixing the random seed. \n",
    "# This means the split will always be the same if you run the code again.\n",
    "X_train, X_test, y_train, y_test = train_test_split(X, y, test_size=0.2, random_state=42) "
   ]
  },
  {
   "cell_type": "code",
   "execution_count": 34,
   "id": "573c2328",
   "metadata": {},
   "outputs": [
    {
     "data": {
      "text/plain": [
       "LogisticRegression(max_iter=200, multi_class='ovr')"
      ]
     },
     "execution_count": 34,
     "metadata": {},
     "output_type": "execute_result"
    }
   ],
   "source": [
    "# Initialize and train the Logistic Regression model\n",
    "clf_logistic = LogisticRegression(max_iter=200, multi_class='ovr') # One-vs-Rest (OvR) for multiclass\n",
    "clf_logistic.fit(X_train, y_train)"
   ]
  },
  {
   "cell_type": "markdown",
   "id": "79eca8ae",
   "metadata": {},
   "source": [
    "# One-vs-Rest (OvR) — Explanation\n",
    "\n",
    "**What it is.**  \n",
    "A simple strategy to extend any **binary** classifier to **multi-class** (and **multi-label**) tasks by training **K independent binary models**—one per class vs. “all other classes.”\n",
    "\n",
    "**Training idea.**  \n",
    "For each class \\(k \\in \\{1,\\dots,K\\}\\):\n",
    "- Relabel the data as \\(y_k = 1\\) if the example belongs to class \\(k\\), else \\(0\\).\n",
    "- Train a binary classifier \\(f_k(\\cdot)\\) on this relabeled data.\n",
    "This yields \\(K\\) models \\(\\{f_1,\\dots,f_K\\}\\).\n",
    "\n",
    "**Prediction.**\n",
    "- **Multiclass (exactly one label):** Compute scores \\(s_k = f_k(x)\\) for all \\(k\\) (probabilities or decision scores) and assign the class with the largest score: \\(\\hat{y} = \\arg\\max_k s_k\\).\n",
    "- **Multi-label (zero or more labels):** Threshold each score independently (e.g., \\(s_k \\ge \\tau_k\\)) so an instance can receive multiple labels.\n",
    "\n",
    "**Why it works / When to use.**\n",
    "- **Pros:** Conceptually simple, model-agnostic, scales linearly with \\(K\\), and allows **per-class** tuning (class weights, thresholds) to handle imbalance.\n",
    "- **Common uses:** Fast, strong baseline for many multi-class problems; natural fit for **multi-label** classification (independent decisions per class).\n",
    "\n",
    "**Limitations & pitfalls.**\n",
    "- **Score comparability:** Models are trained separately, so raw scores may live on different scales—use probability **calibration** if comparing across classes.\n",
    "- **Heterogeneous “rest”:** The negative class mixes many categories, which can blur decision boundaries for some classes.\n",
    "- **Imbalance & rare classes:** OvR can miss rare positives; mitigate with class weighting, resampling, or adjusted thresholds.\n",
    "\n",
    "**Practical tips.**\n",
    "- Calibrate probabilities (e.g., Platt/Isotonic) if you rely on argmax of probabilities across classes.\n",
    "- Tune **per-class thresholds** for multi-label F1/recall trade-offs.\n",
    "- Use **class_weight=\"balanced\"** (or equivalent) and proper **feature scaling** for margin-based models.\n",
    "\n",
    "**Takeaway.**  \n",
    "OvR lets you repurpose any strong **binary** learner for multi-class or multi-label tasks with minimal complexity—just remember to handle **calibration**, **imbalance**, and **per-class thresholds** for best results."
   ]
  },
  {
   "cell_type": "code",
   "execution_count": 35,
   "id": "50a166c1",
   "metadata": {},
   "outputs": [],
   "source": [
    "# Make predictions\n",
    "# predict(X_test): This method uses the trained model to make predictions on the test set. \n",
    "# The model outputs predicted labels (y_pred), which are either 0 (Setosa) or 1 (Versicolor).\n",
    "y_pred = clf_logistic.predict(X_test)"
   ]
  },
  {
   "cell_type": "code",
   "execution_count": 36,
   "id": "f985dd82",
   "metadata": {},
   "outputs": [
    {
     "name": "stdout",
     "output_type": "stream",
     "text": [
      "Accuracy for Logistic Regression (Iris dataset): 96.67%\n"
     ]
    }
   ],
   "source": [
    "# Evaluate the model using accuracy score\n",
    "accuracy_logistic = accuracy_score(y_test, y_pred)\n",
    "print(f\"Accuracy for Logistic Regression (Iris dataset): {accuracy_logistic * 100:.2f}%\")"
   ]
  },
  {
   "cell_type": "code",
   "execution_count": 38,
   "id": "269c056a",
   "metadata": {},
   "outputs": [
    {
     "data": {
      "image/png": "[encoded data removed]",
      "text/plain": [
       "<Figure size 432x288 with 2 Axes>"
      ]
     },
     "metadata": {
      "needs_background": "light"
     },
     "output_type": "display_data"
    }
   ],
   "source": [
    "# Confusion matrix\n",
    "conf_matrix_logistic = confusion_matrix(y_test, y_pred)\n",
    "# We use seaborn to create a heatmap of the confusion matrix. \n",
    "# The heatmap provides a visual representation of the matrix, with colors indicating the intensity (number of correct/incorrect predictions).\n",
    "# The annot=True argument adds the actual numbers to each cell in the heatmap.\n",
    "# The fmt='d' argument ensures that the numbers are displayed as integers.\n",
    "# The cmap='Blues' argument sets the color scheme to shades of blue.\n",
    "sns.heatmap(conf_matrix_logistic, annot=True, fmt='d', cmap='Blues', xticklabels=iris.target_names, yticklabels=iris.target_names)\n",
    "# These functions are used to set the title and axis labels for the plot.\n",
    "plt.title(\"Confusion Matrix (Logistic Regression - Iris Dataset)\")\n",
    "plt.xlabel(\"Predicted\")\n",
    "plt.ylabel(\"Actual\")\n",
    "plt.show()"
   ]
  },
  {
   "cell_type": "markdown",
   "id": "a601b862",
   "metadata": {},
   "source": [
    "__How True Positives, False Positives, and False Negatives Are Represented in the Matrix:__\n",
    "\n",
    "1.\tTrue Positives (TP):\n",
    "\t•\tThese are the diagonal elements in the matrix (e.g., TP_{00}, TP_{11}, TP_{22}).\n",
    "\t•\tThey represent cases where the model correctly classified an instance.\n",
    "2.\tFalse Positives (FP):\n",
    "\t•\tThese are off-diagonal elements in each column.\n",
    "\t•\tFor example, in the first column (Predicted: Class 0), FN_{10} and FN_{20} are the False Positives for Class 0. These are instances of Class 1 and Class 2 that were incorrectly predicted as Class 0.\n",
    "3.\tFalse Negatives (FN):\n",
    "\t•\tThese are off-diagonal elements in each row.\n",
    "\t•\tFor example, in the first row (Actual: Class 0), FP_{01} and FP_{02} are the False Negatives for Class 0. These are instances of Class 0 that were incorrectly predicted as Class 1 or Class 2.\n"
   ]
  },
  {
   "cell_type": "markdown",
   "id": "63d62f0a",
   "metadata": {},
   "source": [
    "## Confusion Matrix (Logistic Regression on Iris) — How to Read & What It Shows\n",
    "\n",
    "**How to read:**  \n",
    "Rows = *Actual* class, Columns = *Predicted* class.  \n",
    "Numbers on the **diagonal** are correct predictions; **off-diagonals** are mistakes.\n",
    "\n",
    "**Counts in this matrix**\n",
    "- **setosa:** 10 correctly predicted as setosa; 0 errors  \n",
    "- **versicolor:** 8 correctly predicted as versicolor; **1** predicted as *virginica*  \n",
    "- **virginica:** 11 correctly predicted as virginica; 0 errors\n",
    "\n",
    "---\n",
    "\n",
    "### Key takeaways\n",
    "- **Overall accuracy:** **96.7%** (29 correct out of 30).  \n",
    "- **Setosa is perfectly separated** (100% precision & recall) — consistent with Iris where setosa is linearly separable.  \n",
    "- The **only error**: one *versicolor → virginica* prediction.  \n",
    "  - This makes **versicolor’s recall lower (88.9%)** because 1 of 9 true versicolors was missed.  \n",
    "  - It also makes **virginica’s precision lower (91.7%)** because 1 of the 12 items predicted as virginica was actually versicolor.\n",
    "\n",
    "---\n",
    "\n",
    "### Class-by-class metrics\n",
    "| Class       | Support (n) | Precision | Recall | F1 |\n",
    "|-------------|-------------|-----------|--------|----|\n",
    "| setosa      | 10          | 100.0%    | 100.0% | 100.0% |\n",
    "| versicolor  | 9           | 100.0%    | 88.9%  | 94.1%  |\n",
    "| virginica   | 11          | 91.7%     | 100.0% | 95.7%  |\n",
    "\n",
    "**Macro/weighted F1:** ~**96.6%**\n",
    "\n",
    "---\n",
    "\n",
    "### Quick refresher \n",
    "- **Precision (Positive Predictive Value):** Of all items we **predicted** as class *C*, how many were truly *C*?  \n",
    "- **Recall (Sensitivity):** Of all items that **are truly** class *C*, how many did we correctly catch as *C*?  \n",
    "- **F1 score:** Harmonic mean of precision and recall (high only if both are high).\n",
    "\n",
    "**Why the metric pattern here?**  \n",
    "- One *versicolor → virginica* error **reduces**:\n",
    "  - **Versicolor recall** (we missed 1 true versicolor).  \n",
    "  - **Virginica precision** (we added 1 non-virginica to the virginica predictions).  \n",
    "- Setosa has **no confusion** with the other classes, so all three metrics are 100%.\n",
    "\n",
    "**Interpretation:**  \n",
    "The model separates **setosa** cleanly and mostly distinguishes **versicolor** from **virginica**, which are known to be more similar in feature space (e.g., petal measurements). A single borderline case caused the only mistake."
   ]
  },
  {
   "cell_type": "markdown",
   "id": "c157b3b9",
   "metadata": {},
   "source": [
    "__Multiclass Confusion Matrix__\n",
    "\n",
    "If you see a confusion matrix with more than 4 results, it could be because you are dealing with a multiclass classification problem (i.e., more than two classes).\n",
    "\n",
    "For example, in the Iris dataset, there are 3 classes (Setosa, Versicolor, and Virginica), so the confusion matrix will have 3 rows and 3 columns for a 3x3 matrix, resulting in 9 cells (including true positives, false positives, false negatives for all classes)."
   ]
  },
  {
   "cell_type": "code",
   "execution_count": 39,
   "id": "83fe8146",
   "metadata": {},
   "outputs": [
    {
     "name": "stdout",
     "output_type": "stream",
     "text": [
      "Classification Report for Logistic Regression (Iris dataset):\n",
      "\n",
      "              precision    recall  f1-score   support\n",
      "\n",
      "      setosa       1.00      1.00      1.00        10\n",
      "  versicolor       1.00      0.89      0.94         9\n",
      "   virginica       0.92      1.00      0.96        11\n",
      "\n",
      "    accuracy                           0.97        30\n",
      "   macro avg       0.97      0.96      0.97        30\n",
      "weighted avg       0.97      0.97      0.97        30\n",
      "\n"
     ]
    }
   ],
   "source": [
    "# Classification report\n",
    "class_report_logistic = classification_report(y_test, y_pred, target_names=iris.target_names)\n",
    "print(\"Classification Report for Logistic Regression (Iris dataset):\\n\")\n",
    "print(class_report_logistic)"
   ]
  },
  {
   "cell_type": "markdown",
   "id": "d67a9a1d",
   "metadata": {},
   "source": [
    "### Example 2: Logistic Regression with the Wine Dataset"
   ]
  },
  {
   "cell_type": "code",
   "execution_count": 43,
   "id": "4bfc8f46",
   "metadata": {},
   "outputs": [],
   "source": [
    "# Load the Wine dataset\n",
    "wine = load_wine()\n",
    "X = wine.data\n",
    "y = wine.target"
   ]
  },
  {
   "cell_type": "code",
   "execution_count": 44,
   "id": "ea1892bd",
   "metadata": {},
   "outputs": [],
   "source": [
    "# Standardize the features\n",
    "scaler = StandardScaler()\n",
    "X = scaler.fit_transform(X)"
   ]
  },
  {
   "cell_type": "code",
   "execution_count": 45,
   "id": "915d7e42",
   "metadata": {},
   "outputs": [],
   "source": [
    "# Split the data into training and testing sets\n",
    "X_train, X_test, y_train, y_test = train_test_split(X, y, test_size=0.2, random_state=42)"
   ]
  },
  {
   "cell_type": "code",
   "execution_count": 46,
   "id": "7b4ef782",
   "metadata": {},
   "outputs": [
    {
     "data": {
      "text/plain": [
       "LogisticRegression(max_iter=200, multi_class='ovr')"
      ]
     },
     "execution_count": 46,
     "metadata": {},
     "output_type": "execute_result"
    }
   ],
   "source": [
    "# Initialize and train the Logistic Regression model\n",
    "# OvR (One-vs-Rest) is the default option for multiclass classification in logistic regression. \n",
    "clf_logistic_wine = LogisticRegression(max_iter=200, multi_class='ovr') # One-vs-Rest (OvR)\n",
    "clf_logistic_wine.fit(X_train, y_train)"
   ]
  },
  {
   "cell_type": "markdown",
   "id": "cbdd9e10",
   "metadata": {},
   "source": [
    "### One-vs-Rest (OvR) \n",
    "- For *K* classes, train **K** binary models: *class i* vs **rest**; pick the class with the highest score.  \n",
    "- scikit-learn **defaults to multinomial (softmax)**; force OvR with `multi_class=\"ovr\"`.  \n",
    "- When classes overlap (e.g., versicolor vs virginica), OvR can still work well; our matrix shows only one such mix-up."
   ]
  },
  {
   "cell_type": "code",
   "execution_count": 47,
   "id": "e5582626",
   "metadata": {},
   "outputs": [],
   "source": [
    "# Make predictions\n",
    "y_pred_wine = clf_logistic_wine.predict(X_test)"
   ]
  },
  {
   "cell_type": "code",
   "execution_count": 48,
   "id": "4873dee7",
   "metadata": {},
   "outputs": [
    {
     "name": "stdout",
     "output_type": "stream",
     "text": [
      "Accuracy for Logistic Regression (Wine dataset): 100.00%\n"
     ]
    }
   ],
   "source": [
    "# Evaluate the model using accuracy score\n",
    "accuracy_logistic_wine = accuracy_score(y_test, y_pred_wine)\n",
    "print(f\"Accuracy for Logistic Regression (Wine dataset): {accuracy_logistic_wine * 100:.2f}%\")"
   ]
  },
  {
   "cell_type": "code",
   "execution_count": 49,
   "id": "d128b087",
   "metadata": {},
   "outputs": [
    {
     "data": {
      "image/png": "[encoded data removed]",
      "text/plain": [
       "<Figure size 432x288 with 2 Axes>"
      ]
     },
     "metadata": {
      "needs_background": "light"
     },
     "output_type": "display_data"
    }
   ],
   "source": [
    "# Confusion matrix\n",
    "conf_matrix_logistic_wine = confusion_matrix(y_test, y_pred_wine)\n",
    "sns.heatmap(conf_matrix_logistic_wine, annot=True, fmt='d', cmap='Greens', xticklabels=wine.target_names, yticklabels=wine.target_names)\n",
    "plt.title(\"Confusion Matrix (Logistic Regression - Wine Dataset)\")\n",
    "plt.xlabel(\"Predicted\")\n",
    "plt.ylabel(\"Actual\")\n",
    "plt.show()"
   ]
  },
  {
   "cell_type": "code",
   "execution_count": 50,
   "id": "cdb81b5b",
   "metadata": {},
   "outputs": [
    {
     "name": "stdout",
     "output_type": "stream",
     "text": [
      "Classification Report for Logistic Regression (Wine dataset):\n",
      "\n",
      "              precision    recall  f1-score   support\n",
      "\n",
      "     class_0       1.00      1.00      1.00        14\n",
      "     class_1       1.00      1.00      1.00        14\n",
      "     class_2       1.00      1.00      1.00         8\n",
      "\n",
      "    accuracy                           1.00        36\n",
      "   macro avg       1.00      1.00      1.00        36\n",
      "weighted avg       1.00      1.00      1.00        36\n",
      "\n"
     ]
    }
   ],
   "source": [
    "# Classification report\n",
    "class_report_logistic_wine = classification_report(y_test, y_pred_wine, target_names=wine.target_names)\n",
    "print(\"Classification Report for Logistic Regression (Wine dataset):\\n\")\n",
    "print(class_report_logistic_wine)"
   ]
  },
  {
   "cell_type": "markdown",
   "id": "03053db0",
   "metadata": {},
   "source": [
    "### Key Takeaways\n",
    "\n",
    "Logistic Regression is an effective and easy-to-interpret algorithm for classification tasks. It can be applied to both binary classification (e.g., spam vs non-spam) and multiclass classification (e.g., Iris or Wine datasets).\n",
    "\n",
    "The key steps in any classification task include:\n",
    "1. Collecting and preparing the data (standardization or normalization may be necessary).\n",
    "2. Splitting the data into training and testing sets.\n",
    "3. Training a classification model (like Logistic Regression) on the training data.\n",
    "4. Making predictions and evaluating the model using metrics like accuracy, confusion matrix, precision, recall, and F1-score."
   ]
  },
  {
   "cell_type": "markdown",
   "id": "a038db6c",
   "metadata": {},
   "source": [
    "# Classification Machine Learning Project Workflow:\n",
    "\n",
    "**1.**\tProblem Definition <br> \n",
    "**2.**\tData Collection <br>\n",
    "**3.**\tExploratory Data Analysis (EDA) <br>\n",
    "**4.**\tData Cleaning <br>\n",
    "**5.**\tFeature Engineering <br>\n",
    "**6.**\tModel Selection and Training <br>\n",
    "**7.**\tModel Evaluation <br>\n",
    "**8.**\tFine-tuning and Conclusion <br>\n"
   ]
  },
  {
   "cell_type": "markdown",
   "id": "d5cc054e",
   "metadata": {},
   "source": [
    "## Example: Titanic dataset\n",
    "## Step 1: Problem Definition\n",
    "The objective of this project is to predict whether a passenger survived or not based on the given features.\n",
    "This is a binary classification problem where the target variable ('survived') is either 0 (died) or 1 (survived)."
   ]
  },
  {
   "cell_type": "code",
   "execution_count": 2,
   "id": "62941e7f",
   "metadata": {},
   "outputs": [],
   "source": [
    "# Import required libraries\n",
    "import numpy as np\n",
    "import pandas as pd\n",
    "import seaborn as sns\n",
    "import matplotlib.pyplot as plt\n",
    "from sklearn.model_selection import train_test_split, cross_val_score, GridSearchCV\n",
    "from sklearn.preprocessing import StandardScaler, OneHotEncoder\n",
    "from sklearn.impute import SimpleImputer\n",
    "from sklearn.pipeline import Pipeline\n",
    "from sklearn.compose import ColumnTransformer\n",
    "from sklearn.linear_model import LogisticRegression\n",
    "from sklearn.metrics import accuracy_score, confusion_matrix, classification_report"
   ]
  },
  {
   "cell_type": "markdown",
   "id": "a812b7f5",
   "metadata": {},
   "source": [
    "## Step 2: Data Collection\n",
    "We will use the Titanic dataset which is available in the seaborn library. The data can also be found on Kaggle."
   ]
  },
  {
   "cell_type": "code",
   "execution_count": 3,
   "id": "5f8bac6a",
   "metadata": {},
   "outputs": [],
   "source": [
    "# Load the Titanic dataset\n",
    "df = sns.load_dataset('titanic')"
   ]
  },
  {
   "cell_type": "markdown",
   "id": "f4c29e4d",
   "metadata": {},
   "source": [
    "## Step 3: Exploratory Data Analysis (EDA)"
   ]
  },
  {
   "cell_type": "code",
   "execution_count": 4,
   "id": "b49f5ff6",
   "metadata": {},
   "outputs": [
    {
     "data": {
      "text/html": [
       "<div>\n",
       "<style scoped>\n",
       "    .dataframe tbody tr th:only-of-type {\n",
       "        vertical-align: middle;\n",
       "    }\n",
       "\n",
       "    .dataframe tbody tr th {\n",
       "        vertical-align: top;\n",
       "    }\n",
       "\n",
       "    .dataframe thead th {\n",
       "        text-align: right;\n",
       "    }\n",
       "</style>\n",
       "<table border=\"1\" class=\"dataframe\">\n",
       "  <thead>\n",
       "    <tr style=\"text-align: right;\">\n",
       "      <th></th>\n",
       "      <th>survived</th>\n",
       "      <th>pclass</th>\n",
       "      <th>sex</th>\n",
       "      <th>age</th>\n",
       "      <th>sibsp</th>\n",
       "      <th>parch</th>\n",
       "      <th>fare</th>\n",
       "      <th>embarked</th>\n",
       "      <th>class</th>\n",
       "      <th>who</th>\n",
       "      <th>adult_male</th>\n",
       "      <th>deck</th>\n",
       "      <th>embark_town</th>\n",
       "      <th>alive</th>\n",
       "      <th>alone</th>\n",
       "    </tr>\n",
       "  </thead>\n",
       "  <tbody>\n",
       "    <tr>\n",
       "      <th>0</th>\n",
       "      <td>0</td>\n",
       "      <td>3</td>\n",
       "      <td>male</td>\n",
       "      <td>22.0</td>\n",
       "      <td>1</td>\n",
       "      <td>0</td>\n",
       "      <td>7.2500</td>\n",
       "      <td>S</td>\n",
       "      <td>Third</td>\n",
       "      <td>man</td>\n",
       "      <td>True</td>\n",
       "      <td>NaN</td>\n",
       "      <td>Southampton</td>\n",
       "      <td>no</td>\n",
       "      <td>False</td>\n",
       "    </tr>\n",
       "    <tr>\n",
       "      <th>1</th>\n",
       "      <td>1</td>\n",
       "      <td>1</td>\n",
       "      <td>female</td>\n",
       "      <td>38.0</td>\n",
       "      <td>1</td>\n",
       "      <td>0</td>\n",
       "      <td>71.2833</td>\n",
       "      <td>C</td>\n",
       "      <td>First</td>\n",
       "      <td>woman</td>\n",
       "      <td>False</td>\n",
       "      <td>C</td>\n",
       "      <td>Cherbourg</td>\n",
       "      <td>yes</td>\n",
       "      <td>False</td>\n",
       "    </tr>\n",
       "    <tr>\n",
       "      <th>2</th>\n",
       "      <td>1</td>\n",
       "      <td>3</td>\n",
       "      <td>female</td>\n",
       "      <td>26.0</td>\n",
       "      <td>0</td>\n",
       "      <td>0</td>\n",
       "      <td>7.9250</td>\n",
       "      <td>S</td>\n",
       "      <td>Third</td>\n",
       "      <td>woman</td>\n",
       "      <td>False</td>\n",
       "      <td>NaN</td>\n",
       "      <td>Southampton</td>\n",
       "      <td>yes</td>\n",
       "      <td>True</td>\n",
       "    </tr>\n",
       "    <tr>\n",
       "      <th>3</th>\n",
       "      <td>1</td>\n",
       "      <td>1</td>\n",
       "      <td>female</td>\n",
       "      <td>35.0</td>\n",
       "      <td>1</td>\n",
       "      <td>0</td>\n",
       "      <td>53.1000</td>\n",
       "      <td>S</td>\n",
       "      <td>First</td>\n",
       "      <td>woman</td>\n",
       "      <td>False</td>\n",
       "      <td>C</td>\n",
       "      <td>Southampton</td>\n",
       "      <td>yes</td>\n",
       "      <td>False</td>\n",
       "    </tr>\n",
       "    <tr>\n",
       "      <th>4</th>\n",
       "      <td>0</td>\n",
       "      <td>3</td>\n",
       "      <td>male</td>\n",
       "      <td>35.0</td>\n",
       "      <td>0</td>\n",
       "      <td>0</td>\n",
       "      <td>8.0500</td>\n",
       "      <td>S</td>\n",
       "      <td>Third</td>\n",
       "      <td>man</td>\n",
       "      <td>True</td>\n",
       "      <td>NaN</td>\n",
       "      <td>Southampton</td>\n",
       "      <td>no</td>\n",
       "      <td>True</td>\n",
       "    </tr>\n",
       "  </tbody>\n",
       "</table>\n",
       "</div>"
      ],
      "text/plain": [
       "   survived  pclass     sex   age  sibsp  parch     fare embarked  class  \\\n",
       "0         0       3    male  22.0      1      0   7.2500        S  Third   \n",
       "1         1       1  female  38.0      1      0  71.2833        C  First   \n",
       "2         1       3  female  26.0      0      0   7.9250        S  Third   \n",
       "3         1       1  female  35.0      1      0  53.1000        S  First   \n",
       "4         0       3    male  35.0      0      0   8.0500        S  Third   \n",
       "\n",
       "     who  adult_male deck  embark_town alive  alone  \n",
       "0    man        True  NaN  Southampton    no  False  \n",
       "1  woman       False    C    Cherbourg   yes  False  \n",
       "2  woman       False  NaN  Southampton   yes   True  \n",
       "3  woman       False    C  Southampton   yes  False  \n",
       "4    man        True  NaN  Southampton    no   True  "
      ]
     },
     "execution_count": 4,
     "metadata": {},
     "output_type": "execute_result"
    }
   ],
   "source": [
    "# Preview the dataset\n",
    "df.head()"
   ]
  },
  {
   "cell_type": "code",
   "execution_count": 5,
   "id": "e82dca39",
   "metadata": {},
   "outputs": [
    {
     "data": {
      "text/html": [
       "<div>\n",
       "<style scoped>\n",
       "    .dataframe tbody tr th:only-of-type {\n",
       "        vertical-align: middle;\n",
       "    }\n",
       "\n",
       "    .dataframe tbody tr th {\n",
       "        vertical-align: top;\n",
       "    }\n",
       "\n",
       "    .dataframe thead th {\n",
       "        text-align: right;\n",
       "    }\n",
       "</style>\n",
       "<table border=\"1\" class=\"dataframe\">\n",
       "  <thead>\n",
       "    <tr style=\"text-align: right;\">\n",
       "      <th></th>\n",
       "      <th>survived</th>\n",
       "      <th>pclass</th>\n",
       "      <th>age</th>\n",
       "      <th>sibsp</th>\n",
       "      <th>parch</th>\n",
       "      <th>fare</th>\n",
       "    </tr>\n",
       "  </thead>\n",
       "  <tbody>\n",
       "    <tr>\n",
       "      <th>count</th>\n",
       "      <td>891.000000</td>\n",
       "      <td>891.000000</td>\n",
       "      <td>714.000000</td>\n",
       "      <td>891.000000</td>\n",
       "      <td>891.000000</td>\n",
       "      <td>891.000000</td>\n",
       "    </tr>\n",
       "    <tr>\n",
       "      <th>mean</th>\n",
       "      <td>0.383838</td>\n",
       "      <td>2.308642</td>\n",
       "      <td>29.699118</td>\n",
       "      <td>0.523008</td>\n",
       "      <td>0.381594</td>\n",
       "      <td>32.204208</td>\n",
       "    </tr>\n",
       "    <tr>\n",
       "      <th>std</th>\n",
       "      <td>0.486592</td>\n",
       "      <td>0.836071</td>\n",
       "      <td>14.526497</td>\n",
       "      <td>1.102743</td>\n",
       "      <td>0.806057</td>\n",
       "      <td>49.693429</td>\n",
       "    </tr>\n",
       "    <tr>\n",
       "      <th>min</th>\n",
       "      <td>0.000000</td>\n",
       "      <td>1.000000</td>\n",
       "      <td>0.420000</td>\n",
       "      <td>0.000000</td>\n",
       "      <td>0.000000</td>\n",
       "      <td>0.000000</td>\n",
       "    </tr>\n",
       "    <tr>\n",
       "      <th>25%</th>\n",
       "      <td>0.000000</td>\n",
       "      <td>2.000000</td>\n",
       "      <td>20.125000</td>\n",
       "      <td>0.000000</td>\n",
       "      <td>0.000000</td>\n",
       "      <td>7.910400</td>\n",
       "    </tr>\n",
       "    <tr>\n",
       "      <th>50%</th>\n",
       "      <td>0.000000</td>\n",
       "      <td>3.000000</td>\n",
       "      <td>28.000000</td>\n",
       "      <td>0.000000</td>\n",
       "      <td>0.000000</td>\n",
       "      <td>14.454200</td>\n",
       "    </tr>\n",
       "    <tr>\n",
       "      <th>75%</th>\n",
       "      <td>1.000000</td>\n",
       "      <td>3.000000</td>\n",
       "      <td>38.000000</td>\n",
       "      <td>1.000000</td>\n",
       "      <td>0.000000</td>\n",
       "      <td>31.000000</td>\n",
       "    </tr>\n",
       "    <tr>\n",
       "      <th>max</th>\n",
       "      <td>1.000000</td>\n",
       "      <td>3.000000</td>\n",
       "      <td>80.000000</td>\n",
       "      <td>8.000000</td>\n",
       "      <td>6.000000</td>\n",
       "      <td>512.329200</td>\n",
       "    </tr>\n",
       "  </tbody>\n",
       "</table>\n",
       "</div>"
      ],
      "text/plain": [
       "         survived      pclass         age       sibsp       parch        fare\n",
       "count  891.000000  891.000000  714.000000  891.000000  891.000000  891.000000\n",
       "mean     0.383838    2.308642   29.699118    0.523008    0.381594   32.204208\n",
       "std      0.486592    0.836071   14.526497    1.102743    0.806057   49.693429\n",
       "min      0.000000    1.000000    0.420000    0.000000    0.000000    0.000000\n",
       "25%      0.000000    2.000000   20.125000    0.000000    0.000000    7.910400\n",
       "50%      0.000000    3.000000   28.000000    0.000000    0.000000   14.454200\n",
       "75%      1.000000    3.000000   38.000000    1.000000    0.000000   31.000000\n",
       "max      1.000000    3.000000   80.000000    8.000000    6.000000  512.329200"
      ]
     },
     "execution_count": 5,
     "metadata": {},
     "output_type": "execute_result"
    }
   ],
   "source": [
    "# Statistical overview of the data\n",
    "df.describe()"
   ]
  },
  {
   "cell_type": "code",
   "execution_count": 6,
   "id": "342c6466",
   "metadata": {},
   "outputs": [
    {
     "data": {
      "text/plain": [
       "survived         0\n",
       "pclass           0\n",
       "sex              0\n",
       "age            177\n",
       "sibsp            0\n",
       "parch            0\n",
       "fare             0\n",
       "embarked         2\n",
       "class            0\n",
       "who              0\n",
       "adult_male       0\n",
       "deck           688\n",
       "embark_town      2\n",
       "alive            0\n",
       "alone            0\n",
       "dtype: int64"
      ]
     },
     "execution_count": 6,
     "metadata": {},
     "output_type": "execute_result"
    }
   ],
   "source": [
    "# Check for missing values\n",
    "df.isnull().sum()"
   ]
  },
  {
   "cell_type": "code",
   "execution_count": 7,
   "id": "fe08e300",
   "metadata": {},
   "outputs": [
    {
     "data": {
      "image/png": "[encoded data removed]",
      "text/plain": [
       "<Figure size 432x288 with 1 Axes>"
      ]
     },
     "metadata": {
      "needs_background": "light"
     },
     "output_type": "display_data"
    }
   ],
   "source": [
    "# Visualize survival count\n",
    "sns.countplot(data=df, x='survived')\n",
    "plt.title(\"Count of Survival (0: Died, 1: Survived)\")\n",
    "plt.show()"
   ]
  },
  {
   "cell_type": "code",
   "execution_count": 8,
   "id": "1d646913",
   "metadata": {},
   "outputs": [
    {
     "data": {
      "image/png": "[encoded data removed]",
      "text/plain": [
       "<Figure size 432x288 with 1 Axes>"
      ]
     },
     "metadata": {
      "needs_background": "light"
     },
     "output_type": "display_data"
    }
   ],
   "source": [
    "# Visualize survival by gender\n",
    "sns.countplot(data=df, x='survived', hue='sex')\n",
    "plt.title(\"Survival by Gender\")\n",
    "plt.show()"
   ]
  },
  {
   "cell_type": "code",
   "execution_count": 9,
   "id": "fd4e4218",
   "metadata": {},
   "outputs": [
    {
     "data": {
      "image/png": "[encoded data removed]",
      "text/plain": [
       "<Figure size 432x288 with 1 Axes>"
      ]
     },
     "metadata": {
      "needs_background": "light"
     },
     "output_type": "display_data"
    }
   ],
   "source": [
    "# Survival rate by class\n",
    "sns.barplot(x='pclass', y='survived', data=df)\n",
    "plt.title(\"Survival Rate by Passenger Class\")\n",
    "plt.show()"
   ]
  },
  {
   "cell_type": "markdown",
   "id": "76daaa75",
   "metadata": {},
   "source": [
    "## Step 4: Data Cleaning\n",
    "The dataset contains some missing values. We'll handle missing values appropriately."
   ]
  },
  {
   "cell_type": "code",
   "execution_count": 10,
   "id": "1ce0e42e",
   "metadata": {},
   "outputs": [],
   "source": [
    "# First, let's drop columns that won't help in our predictions (e.g., 'deck', 'embark_town', 'alive')\n",
    "df = df.drop(columns=['deck', 'embark_town', 'alive'])"
   ]
  },
  {
   "cell_type": "code",
   "execution_count": 11,
   "id": "dd5606c1",
   "metadata": {},
   "outputs": [],
   "source": [
    "# We'll also drop rows where 'embarked' is missing (only two rows).\n",
    "df = df.dropna(subset=['embarked'])"
   ]
  },
  {
   "cell_type": "markdown",
   "id": "ef88868f",
   "metadata": {},
   "source": [
    "## Step 5: Feature Engineering\n",
    "We need to convert categorical features like 'sex', 'embarked', and 'class' into numerical values using OneHotEncoding."
   ]
  },
  {
   "cell_type": "code",
   "execution_count": 12,
   "id": "b26c242d",
   "metadata": {},
   "outputs": [],
   "source": [
    "# Separate features and labels\n",
    "X = df.drop('survived', axis=1)\n",
    "y = df['survived']"
   ]
  },
  {
   "cell_type": "code",
   "execution_count": 13,
   "id": "1752531b",
   "metadata": {},
   "outputs": [],
   "source": [
    "# Define numerical and categorical features\n",
    "numerical_features = ['age', 'fare', 'sibsp', 'parch']\n",
    "categorical_features = ['sex', 'embarked', 'pclass']"
   ]
  },
  {
   "cell_type": "markdown",
   "id": "a87feb0b",
   "metadata": {},
   "source": [
    "### Build pipelines for data preprocessing"
   ]
  },
  {
   "cell_type": "code",
   "execution_count": 14,
   "id": "98e86923",
   "metadata": {},
   "outputs": [],
   "source": [
    "# Pipeline for numerical features (fill missing values and scale)\n",
    "num_pipeline = Pipeline([\n",
    "    ('imputer', SimpleImputer(strategy='mean')),\n",
    "    ('scaler', StandardScaler())\n",
    "])"
   ]
  },
  {
   "cell_type": "code",
   "execution_count": 15,
   "id": "523ce66d",
   "metadata": {},
   "outputs": [],
   "source": [
    "# Pipeline for categorical features (encode categorical variables)\n",
    "cat_pipeline = Pipeline([\n",
    "    ('imputer', SimpleImputer(strategy='most_frequent')),\n",
    "    ('onehot', OneHotEncoder())\n",
    "])"
   ]
  },
  {
   "cell_type": "code",
   "execution_count": 16,
   "id": "31e89d05",
   "metadata": {},
   "outputs": [],
   "source": [
    "# Combine numerical and categorical pipelines\n",
    "full_pipeline = ColumnTransformer([\n",
    "    ('num', num_pipeline, numerical_features),\n",
    "    ('cat', cat_pipeline, categorical_features)\n",
    "])"
   ]
  },
  {
   "cell_type": "code",
   "execution_count": 17,
   "id": "f91524a9",
   "metadata": {},
   "outputs": [],
   "source": [
    "# Apply the pipeline to the data\n",
    "X_prepared = full_pipeline.fit_transform(X)"
   ]
  },
  {
   "cell_type": "markdown",
   "id": "7012bf3f",
   "metadata": {},
   "source": [
    "## Step 6: Model Selection and Training"
   ]
  },
  {
   "cell_type": "code",
   "execution_count": 18,
   "id": "18ea5a63",
   "metadata": {},
   "outputs": [],
   "source": [
    "# Split the data into training and testing sets\n",
    "X_train, X_test, y_train, y_test = train_test_split(X_prepared, y, test_size=0.2, random_state=42)"
   ]
  },
  {
   "cell_type": "code",
   "execution_count": 19,
   "id": "50aa7ec6",
   "metadata": {},
   "outputs": [],
   "source": [
    "# Initialize Logistic Regression model\n",
    "model = LogisticRegression(max_iter=200)"
   ]
  },
  {
   "cell_type": "code",
   "execution_count": 20,
   "id": "aff78310",
   "metadata": {},
   "outputs": [
    {
     "data": {
      "text/plain": [
       "LogisticRegression(max_iter=200)"
      ]
     },
     "execution_count": 20,
     "metadata": {},
     "output_type": "execute_result"
    }
   ],
   "source": [
    "# Train the model on training data\n",
    "model.fit(X_train, y_train)"
   ]
  },
  {
   "cell_type": "markdown",
   "id": "279f0a8e",
   "metadata": {},
   "source": [
    "## Step 7: Model Evaluation"
   ]
  },
  {
   "cell_type": "code",
   "execution_count": 21,
   "id": "daa3c2cf",
   "metadata": {},
   "outputs": [],
   "source": [
    "# Make predictions on test data\n",
    "y_pred = model.predict(X_test)"
   ]
  },
  {
   "cell_type": "code",
   "execution_count": 22,
   "id": "4b38ef83",
   "metadata": {},
   "outputs": [
    {
     "name": "stdout",
     "output_type": "stream",
     "text": [
      "Accuracy of Logistic Regression: 78.65%\n"
     ]
    }
   ],
   "source": [
    "# Calculate accuracy\n",
    "accuracy = accuracy_score(y_test, y_pred)\n",
    "print(f\"Accuracy of Logistic Regression: {accuracy * 100:.2f}%\")"
   ]
  },
  {
   "cell_type": "code",
   "execution_count": 23,
   "id": "94f513c4",
   "metadata": {},
   "outputs": [
    {
     "data": {
      "image/png": "[encoded data removed]",
      "text/plain": [
       "<Figure size 432x288 with 2 Axes>"
      ]
     },
     "metadata": {
      "needs_background": "light"
     },
     "output_type": "display_data"
    }
   ],
   "source": [
    "# Confusion Matrix\n",
    "conf_matrix = confusion_matrix(y_test, y_pred)\n",
    "sns.heatmap(conf_matrix, annot=True, fmt='d', cmap='Blues', xticklabels=['Died', 'Survived'], yticklabels=['Died', 'Survived'])\n",
    "plt.title(\"Confusion Matrix (Logistic Regression)\")\n",
    "plt.xlabel(\"Predicted\")\n",
    "plt.ylabel(\"Actual\")\n",
    "plt.show()"
   ]
  },
  {
   "cell_type": "code",
   "execution_count": 24,
   "id": "0aa8334e",
   "metadata": {},
   "outputs": [
    {
     "name": "stdout",
     "output_type": "stream",
     "text": [
      "Classification Report:\n",
      "\n",
      "              precision    recall  f1-score   support\n",
      "\n",
      "        Died       0.84      0.80      0.82       109\n",
      "    Survived       0.71      0.77      0.74        69\n",
      "\n",
      "    accuracy                           0.79       178\n",
      "   macro avg       0.78      0.78      0.78       178\n",
      "weighted avg       0.79      0.79      0.79       178\n",
      "\n"
     ]
    }
   ],
   "source": [
    "# Classification report\n",
    "class_report = classification_report(y_test, y_pred, target_names=['Died', 'Survived'])\n",
    "print(\"Classification Report:\\n\")\n",
    "print(class_report)"
   ]
  },
  {
   "cell_type": "markdown",
   "id": "5d0e4086",
   "metadata": {},
   "source": [
    "## Step 8: Fine-Tuning the Model"
   ]
  },
  {
   "cell_type": "markdown",
   "id": "2bee2497",
   "metadata": {},
   "source": [
    "__GridSearchCV__ is a method provided by scikit-learn to automate the process of hyperparameter tuning. It searches across a grid of hyperparameters and evaluates the model using cross-validation, identifying the best combination of parameters that maximizes model performance (in this case, accuracy).\n",
    "\n",
    "\n",
    "A __hyperparameter__ is a parameter whose value is set before the learning process begins and controls the behavior of the training algorithm in machine learning models. Unlike model parameters, which are learned from the training data during model training, hyperparameters are not learned automatically and must be set manually by the user or optimized using techniques like cross-validation."
   ]
  },
  {
   "cell_type": "code",
   "execution_count": 25,
   "id": "9dc89ef2",
   "metadata": {},
   "outputs": [
    {
     "data": {
      "text/plain": [
       "GridSearchCV(cv=5, estimator=LogisticRegression(max_iter=200),\n",
       "             param_grid=[{'C': [0.1, 1, 10, 100], 'max_iter': [200],\n",
       "                          'solver': ['lbfgs']},\n",
       "                         {'C': [0.1, 1, 10], 'max_iter': [200],\n",
       "                          'solver': ['liblinear']}],\n",
       "             scoring='accuracy')"
      ]
     },
     "execution_count": 25,
     "metadata": {},
     "output_type": "execute_result"
    }
   ],
   "source": [
    "# Use GridSearchCV to find the best hyperparameters for Logistic Regression\n",
    "param_grid = [\n",
    "    {'C': [0.1, 1, 10, 100], 'solver': ['lbfgs'], 'max_iter': [200]},\n",
    "    {'C': [0.1, 1, 10], 'solver': ['liblinear'], 'max_iter': [200]}\n",
    "]\n",
    "# GridSearchCV will evaluate each combination of hyperparameters by performing cross-validation \n",
    "# (in this case, 5-fold CV).\n",
    "grid_search = GridSearchCV(model, param_grid, cv=5, scoring='accuracy')\n",
    "grid_search.fit(X_train, y_train)"
   ]
  },
  {
   "cell_type": "code",
   "execution_count": 26,
   "id": "1e1f1562",
   "metadata": {},
   "outputs": [
    {
     "name": "stdout",
     "output_type": "stream",
     "text": [
      "Best parameters: {'C': 0.1, 'max_iter': 200, 'solver': 'lbfgs'}\n"
     ]
    }
   ],
   "source": [
    "# Best hyperparameters\n",
    "print(f\"Best parameters: {grid_search.best_params_}\")"
   ]
  },
  {
   "cell_type": "code",
   "execution_count": 27,
   "id": "82101aba",
   "metadata": {},
   "outputs": [],
   "source": [
    "# Evaluate the best model on the test set\n",
    "best_model = grid_search.best_estimator_\n",
    "y_pred_best = best_model.predict(X_test)"
   ]
  },
  {
   "cell_type": "code",
   "execution_count": 28,
   "id": "6fa066a4",
   "metadata": {},
   "outputs": [
    {
     "name": "stdout",
     "output_type": "stream",
     "text": [
      "Accuracy of Optimized Logistic Regression: 80.34%\n"
     ]
    }
   ],
   "source": [
    "# Re-evaluate using best model\n",
    "accuracy_best = accuracy_score(y_test, y_pred_best)\n",
    "print(f\"Accuracy of Optimized Logistic Regression: {accuracy_best * 100:.2f}%\")"
   ]
  },
  {
   "cell_type": "code",
   "execution_count": 29,
   "id": "6b39abe1",
   "metadata": {},
   "outputs": [
    {
     "data": {
      "image/png": "[encoded data removed]",
      "text/plain": [
       "<Figure size 432x288 with 2 Axes>"
      ]
     },
     "metadata": {
      "needs_background": "light"
     },
     "output_type": "display_data"
    }
   ],
   "source": [
    "# Final confusion matrix and classification report\n",
    "conf_matrix_best = confusion_matrix(y_test, y_pred_best)\n",
    "sns.heatmap(conf_matrix_best, annot=True, fmt='d', cmap='Greens', xticklabels=['Died', 'Survived'], yticklabels=['Died', 'Survived'])\n",
    "plt.title(\"Confusion Matrix (Optimized Logistic Regression)\")\n",
    "plt.xlabel(\"Predicted\")\n",
    "plt.ylabel(\"Actual\")\n",
    "plt.show()"
   ]
  },
  {
   "cell_type": "code",
   "execution_count": 30,
   "id": "47ef1e65",
   "metadata": {},
   "outputs": [
    {
     "name": "stdout",
     "output_type": "stream",
     "text": [
      "Classification Report for Optimized Model:\n",
      "\n",
      "              precision    recall  f1-score   support\n",
      "\n",
      "        Died       0.84      0.84      0.84       109\n",
      "    Survived       0.75      0.74      0.74        69\n",
      "\n",
      "    accuracy                           0.80       178\n",
      "   macro avg       0.79      0.79      0.79       178\n",
      "weighted avg       0.80      0.80      0.80       178\n",
      "\n"
     ]
    }
   ],
   "source": [
    "class_report_best = classification_report(y_test, y_pred_best, target_names=['Died', 'Survived'])\n",
    "print(\"Classification Report for Optimized Model:\\n\")\n",
    "print(class_report_best)"
   ]
  },
  {
   "cell_type": "markdown",
   "id": "910ab143",
   "metadata": {},
   "source": [
    "## Step 9: Conclusion\n",
    "1. In this end-to-end machine learning project, we successfully built a classification model to predict the survival of passengers on the Titanic. <br>\n",
    "2. We started with exploratory data analysis (EDA), cleaned the data, applied feature engineering, built a Logistic Regression model, and fine-tuned the model using GridSearchCV.<br>\n",
    "3. The final model achieved an accuracy of over __80%__ on the test set."
   ]
  },
  {
   "cell_type": "markdown",
   "id": "c94d8b14",
   "metadata": {},
   "source": [
    "## Another Example: Breast Cancer Wisconsin dataset \n",
    "## Step 1: Problem Definition\n",
    "The objective of this project is to predict whether a tumor is benign (class 0) or malignant (class 1) based on features like radius, texture, perimeter, etc. This is a binary classification problem."
   ]
  },
  {
   "cell_type": "code",
   "execution_count": 51,
   "id": "f183a3e0",
   "metadata": {},
   "outputs": [],
   "source": [
    "# Import required libraries\n",
    "import numpy as np\n",
    "import pandas as pd\n",
    "import seaborn as sns\n",
    "import matplotlib.pyplot as plt\n",
    "from sklearn.model_selection import train_test_split, GridSearchCV\n",
    "from sklearn.preprocessing import StandardScaler\n",
    "from sklearn.linear_model import LogisticRegression\n",
    "from sklearn.metrics import accuracy_score, confusion_matrix, classification_report\n",
    "from sklearn.datasets import load_breast_cancer"
   ]
  },
  {
   "cell_type": "markdown",
   "id": "555ff0d9",
   "metadata": {},
   "source": [
    "## Step 2: Data Collection\n",
    "We will use the Breast Cancer Wisconsin dataset from scikit-learn's built-in datasets."
   ]
  },
  {
   "cell_type": "code",
   "execution_count": 52,
   "id": "c64442f2",
   "metadata": {},
   "outputs": [],
   "source": [
    "# Load the Breast Cancer dataset\n",
    "cancer = load_breast_cancer()\n",
    "X = pd.DataFrame(cancer.data, columns=cancer.feature_names)\n",
    "y = pd.Series(cancer.target)"
   ]
  },
  {
   "cell_type": "code",
   "execution_count": 53,
   "id": "b4b3fdea",
   "metadata": {},
   "outputs": [
    {
     "data": {
      "text/html": [
       "<div>\n",
       "<style scoped>\n",
       "    .dataframe tbody tr th:only-of-type {\n",
       "        vertical-align: middle;\n",
       "    }\n",
       "\n",
       "    .dataframe tbody tr th {\n",
       "        vertical-align: top;\n",
       "    }\n",
       "\n",
       "    .dataframe thead th {\n",
       "        text-align: right;\n",
       "    }\n",
       "</style>\n",
       "<table border=\"1\" class=\"dataframe\">\n",
       "  <thead>\n",
       "    <tr style=\"text-align: right;\">\n",
       "      <th></th>\n",
       "      <th>mean radius</th>\n",
       "      <th>mean texture</th>\n",
       "      <th>mean perimeter</th>\n",
       "      <th>mean area</th>\n",
       "      <th>mean smoothness</th>\n",
       "      <th>mean compactness</th>\n",
       "      <th>mean concavity</th>\n",
       "      <th>mean concave points</th>\n",
       "      <th>mean symmetry</th>\n",
       "      <th>mean fractal dimension</th>\n",
       "      <th>...</th>\n",
       "      <th>worst radius</th>\n",
       "      <th>worst texture</th>\n",
       "      <th>worst perimeter</th>\n",
       "      <th>worst area</th>\n",
       "      <th>worst smoothness</th>\n",
       "      <th>worst compactness</th>\n",
       "      <th>worst concavity</th>\n",
       "      <th>worst concave points</th>\n",
       "      <th>worst symmetry</th>\n",
       "      <th>worst fractal dimension</th>\n",
       "    </tr>\n",
       "  </thead>\n",
       "  <tbody>\n",
       "    <tr>\n",
       "      <th>0</th>\n",
       "      <td>17.99</td>\n",
       "      <td>10.38</td>\n",
       "      <td>122.80</td>\n",
       "      <td>1001.0</td>\n",
       "      <td>0.11840</td>\n",
       "      <td>0.27760</td>\n",
       "      <td>0.3001</td>\n",
       "      <td>0.14710</td>\n",
       "      <td>0.2419</td>\n",
       "      <td>0.07871</td>\n",
       "      <td>...</td>\n",
       "      <td>25.38</td>\n",
       "      <td>17.33</td>\n",
       "      <td>184.60</td>\n",
       "      <td>2019.0</td>\n",
       "      <td>0.1622</td>\n",
       "      <td>0.6656</td>\n",
       "      <td>0.7119</td>\n",
       "      <td>0.2654</td>\n",
       "      <td>0.4601</td>\n",
       "      <td>0.11890</td>\n",
       "    </tr>\n",
       "    <tr>\n",
       "      <th>1</th>\n",
       "      <td>20.57</td>\n",
       "      <td>17.77</td>\n",
       "      <td>132.90</td>\n",
       "      <td>1326.0</td>\n",
       "      <td>0.08474</td>\n",
       "      <td>0.07864</td>\n",
       "      <td>0.0869</td>\n",
       "      <td>0.07017</td>\n",
       "      <td>0.1812</td>\n",
       "      <td>0.05667</td>\n",
       "      <td>...</td>\n",
       "      <td>24.99</td>\n",
       "      <td>23.41</td>\n",
       "      <td>158.80</td>\n",
       "      <td>1956.0</td>\n",
       "      <td>0.1238</td>\n",
       "      <td>0.1866</td>\n",
       "      <td>0.2416</td>\n",
       "      <td>0.1860</td>\n",
       "      <td>0.2750</td>\n",
       "      <td>0.08902</td>\n",
       "    </tr>\n",
       "    <tr>\n",
       "      <th>2</th>\n",
       "      <td>19.69</td>\n",
       "      <td>21.25</td>\n",
       "      <td>130.00</td>\n",
       "      <td>1203.0</td>\n",
       "      <td>0.10960</td>\n",
       "      <td>0.15990</td>\n",
       "      <td>0.1974</td>\n",
       "      <td>0.12790</td>\n",
       "      <td>0.2069</td>\n",
       "      <td>0.05999</td>\n",
       "      <td>...</td>\n",
       "      <td>23.57</td>\n",
       "      <td>25.53</td>\n",
       "      <td>152.50</td>\n",
       "      <td>1709.0</td>\n",
       "      <td>0.1444</td>\n",
       "      <td>0.4245</td>\n",
       "      <td>0.4504</td>\n",
       "      <td>0.2430</td>\n",
       "      <td>0.3613</td>\n",
       "      <td>0.08758</td>\n",
       "    </tr>\n",
       "    <tr>\n",
       "      <th>3</th>\n",
       "      <td>11.42</td>\n",
       "      <td>20.38</td>\n",
       "      <td>77.58</td>\n",
       "      <td>386.1</td>\n",
       "      <td>0.14250</td>\n",
       "      <td>0.28390</td>\n",
       "      <td>0.2414</td>\n",
       "      <td>0.10520</td>\n",
       "      <td>0.2597</td>\n",
       "      <td>0.09744</td>\n",
       "      <td>...</td>\n",
       "      <td>14.91</td>\n",
       "      <td>26.50</td>\n",
       "      <td>98.87</td>\n",
       "      <td>567.7</td>\n",
       "      <td>0.2098</td>\n",
       "      <td>0.8663</td>\n",
       "      <td>0.6869</td>\n",
       "      <td>0.2575</td>\n",
       "      <td>0.6638</td>\n",
       "      <td>0.17300</td>\n",
       "    </tr>\n",
       "    <tr>\n",
       "      <th>4</th>\n",
       "      <td>20.29</td>\n",
       "      <td>14.34</td>\n",
       "      <td>135.10</td>\n",
       "      <td>1297.0</td>\n",
       "      <td>0.10030</td>\n",
       "      <td>0.13280</td>\n",
       "      <td>0.1980</td>\n",
       "      <td>0.10430</td>\n",
       "      <td>0.1809</td>\n",
       "      <td>0.05883</td>\n",
       "      <td>...</td>\n",
       "      <td>22.54</td>\n",
       "      <td>16.67</td>\n",
       "      <td>152.20</td>\n",
       "      <td>1575.0</td>\n",
       "      <td>0.1374</td>\n",
       "      <td>0.2050</td>\n",
       "      <td>0.4000</td>\n",
       "      <td>0.1625</td>\n",
       "      <td>0.2364</td>\n",
       "      <td>0.07678</td>\n",
       "    </tr>\n",
       "  </tbody>\n",
       "</table>\n",
       "<p>5 rows × 30 columns</p>\n",
       "</div>"
      ],
      "text/plain": [
       "   mean radius  mean texture  mean perimeter  mean area  mean smoothness  \\\n",
       "0        17.99         10.38          122.80     1001.0          0.11840   \n",
       "1        20.57         17.77          132.90     1326.0          0.08474   \n",
       "2        19.69         21.25          130.00     1203.0          0.10960   \n",
       "3        11.42         20.38           77.58      386.1          0.14250   \n",
       "4        20.29         14.34          135.10     1297.0          0.10030   \n",
       "\n",
       "   mean compactness  mean concavity  mean concave points  mean symmetry  \\\n",
       "0           0.27760          0.3001              0.14710         0.2419   \n",
       "1           0.07864          0.0869              0.07017         0.1812   \n",
       "2           0.15990          0.1974              0.12790         0.2069   \n",
       "3           0.28390          0.2414              0.10520         0.2597   \n",
       "4           0.13280          0.1980              0.10430         0.1809   \n",
       "\n",
       "   mean fractal dimension  ...  worst radius  worst texture  worst perimeter  \\\n",
       "0                 0.07871  ...         25.38          17.33           184.60   \n",
       "1                 0.05667  ...         24.99          23.41           158.80   \n",
       "2                 0.05999  ...         23.57          25.53           152.50   \n",
       "3                 0.09744  ...         14.91          26.50            98.87   \n",
       "4                 0.05883  ...         22.54          16.67           152.20   \n",
       "\n",
       "   worst area  worst smoothness  worst compactness  worst concavity  \\\n",
       "0      2019.0            0.1622             0.6656           0.7119   \n",
       "1      1956.0            0.1238             0.1866           0.2416   \n",
       "2      1709.0            0.1444             0.4245           0.4504   \n",
       "3       567.7            0.2098             0.8663           0.6869   \n",
       "4      1575.0            0.1374             0.2050           0.4000   \n",
       "\n",
       "   worst concave points  worst symmetry  worst fractal dimension  \n",
       "0                0.2654          0.4601                  0.11890  \n",
       "1                0.1860          0.2750                  0.08902  \n",
       "2                0.2430          0.3613                  0.08758  \n",
       "3                0.2575          0.6638                  0.17300  \n",
       "4                0.1625          0.2364                  0.07678  \n",
       "\n",
       "[5 rows x 30 columns]"
      ]
     },
     "execution_count": 53,
     "metadata": {},
     "output_type": "execute_result"
    }
   ],
   "source": [
    "# Preview the dataset\n",
    "X.head()"
   ]
  },
  {
   "cell_type": "markdown",
   "id": "f19e64d8",
   "metadata": {},
   "source": [
    "## Step 3: Exploratory Data Analysis (EDA)"
   ]
  },
  {
   "cell_type": "code",
   "execution_count": 54,
   "id": "ea758bb4",
   "metadata": {},
   "outputs": [
    {
     "data": {
      "text/plain": [
       "mean radius                0\n",
       "mean texture               0\n",
       "mean perimeter             0\n",
       "mean area                  0\n",
       "mean smoothness            0\n",
       "mean compactness           0\n",
       "mean concavity             0\n",
       "mean concave points        0\n",
       "mean symmetry              0\n",
       "mean fractal dimension     0\n",
       "radius error               0\n",
       "texture error              0\n",
       "perimeter error            0\n",
       "area error                 0\n",
       "smoothness error           0\n",
       "compactness error          0\n",
       "concavity error            0\n",
       "concave points error       0\n",
       "symmetry error             0\n",
       "fractal dimension error    0\n",
       "worst radius               0\n",
       "worst texture              0\n",
       "worst perimeter            0\n",
       "worst area                 0\n",
       "worst smoothness           0\n",
       "worst compactness          0\n",
       "worst concavity            0\n",
       "worst concave points       0\n",
       "worst symmetry             0\n",
       "worst fractal dimension    0\n",
       "dtype: int64"
      ]
     },
     "execution_count": 54,
     "metadata": {},
     "output_type": "execute_result"
    }
   ],
   "source": [
    "# Check for missing values\n",
    "X.isnull().sum()"
   ]
  },
  {
   "cell_type": "code",
   "execution_count": 55,
   "id": "ace7ceb7",
   "metadata": {},
   "outputs": [
    {
     "name": "stdout",
     "output_type": "stream",
     "text": [
      "<class 'pandas.core.frame.DataFrame'>\n",
      "RangeIndex: 569 entries, 0 to 568\n",
      "Data columns (total 30 columns):\n",
      " #   Column                   Non-Null Count  Dtype  \n",
      "---  ------                   --------------  -----  \n",
      " 0   mean radius              569 non-null    float64\n",
      " 1   mean texture             569 non-null    float64\n",
      " 2   mean perimeter           569 non-null    float64\n",
      " 3   mean area                569 non-null    float64\n",
      " 4   mean smoothness          569 non-null    float64\n",
      " 5   mean compactness         569 non-null    float64\n",
      " 6   mean concavity           569 non-null    float64\n",
      " 7   mean concave points      569 non-null    float64\n",
      " 8   mean symmetry            569 non-null    float64\n",
      " 9   mean fractal dimension   569 non-null    float64\n",
      " 10  radius error             569 non-null    float64\n",
      " 11  texture error            569 non-null    float64\n",
      " 12  perimeter error          569 non-null    float64\n",
      " 13  area error               569 non-null    float64\n",
      " 14  smoothness error         569 non-null    float64\n",
      " 15  compactness error        569 non-null    float64\n",
      " 16  concavity error          569 non-null    float64\n",
      " 17  concave points error     569 non-null    float64\n",
      " 18  symmetry error           569 non-null    float64\n",
      " 19  fractal dimension error  569 non-null    float64\n",
      " 20  worst radius             569 non-null    float64\n",
      " 21  worst texture            569 non-null    float64\n",
      " 22  worst perimeter          569 non-null    float64\n",
      " 23  worst area               569 non-null    float64\n",
      " 24  worst smoothness         569 non-null    float64\n",
      " 25  worst compactness        569 non-null    float64\n",
      " 26  worst concavity          569 non-null    float64\n",
      " 27  worst concave points     569 non-null    float64\n",
      " 28  worst symmetry           569 non-null    float64\n",
      " 29  worst fractal dimension  569 non-null    float64\n",
      "dtypes: float64(30)\n",
      "memory usage: 133.5 KB\n"
     ]
    }
   ],
   "source": [
    "# Check data types and shape\n",
    "X.info()"
   ]
  },
  {
   "cell_type": "code",
   "execution_count": 56,
   "id": "8ad6be5b",
   "metadata": {},
   "outputs": [
    {
     "name": "stderr",
     "output_type": "stream",
     "text": [
      "/Users/zhoushimi/opt/anaconda3/lib/python3.8/site-packages/seaborn/_decorators.py:36: FutureWarning: Pass the following variable as a keyword arg: x. From version 0.12, the only valid positional argument will be `data`, and passing other arguments without an explicit keyword will result in an error or misinterpretation.\n",
      "  warnings.warn(\n"
     ]
    },
    {
     "data": {
      "image/png": "[encoded data removed]",
      "text/plain": [
       "<Figure size 432x288 with 1 Axes>"
      ]
     },
     "metadata": {
      "needs_background": "light"
     },
     "output_type": "display_data"
    }
   ],
   "source": [
    "# Visualize the distribution of the target variable (0: benign, 1: malignant)\n",
    "sns.countplot(y)\n",
    "plt.title(\"Distribution of Benign (0) and Malignant (1) Tumors\")\n",
    "plt.show()"
   ]
  },
  {
   "cell_type": "code",
   "execution_count": 57,
   "id": "bc593d1e",
   "metadata": {},
   "outputs": [
    {
     "data": {
      "image/png": "[encoded data removed]",
      "text/plain": [
       "<Figure size 864x720 with 2 Axes>"
      ]
     },
     "metadata": {
      "needs_background": "light"
     },
     "output_type": "display_data"
    }
   ],
   "source": [
    "# Check for correlations between features\n",
    "plt.figure(figsize=(12, 10))\n",
    "# X.corr() computes the correlation matrix of the feature matrix X.\n",
    "# The correlation matrix shows the pairwise correlations between the features. \n",
    "# The values of the matrix are between -1 and 1:\n",
    "# 1: Perfect positive correlation (as one variable increases, the other variable also increases).\n",
    "# 0: No correlation.\n",
    "# -1: Perfect negative correlation (as one variable increases, the other variable decreases).\n",
    "correlation_matrix = X.corr()\n",
    "sns.heatmap(correlation_matrix, cmap='coolwarm', linewidths=0.5)\n",
    "plt.title(\"Correlation Matrix of Features\")\n",
    "plt.show()"
   ]
  },
  {
   "cell_type": "markdown",
   "id": "9ee990f0",
   "metadata": {},
   "source": [
    "## Correlation Matrix — how to read it & why it matters\n",
    "\n",
    "**What you’re seeing**\n",
    "- Each cell is the **Pearson correlation** (*r*) between two features (range **–1 to +1**).\n",
    "- **Diagonal = 1.0** (a feature with itself). Matrix is **symmetric**.\n",
    "- **Red ≈ positive** (features rise together), **blue ≈ negative** (one rises, the other falls), **near 0** ≈ little linear relationship.\n",
    "\n",
    "**Typical patterns in this dataset**\n",
    "- Strong positive blocks among **size/shape features**: `mean/worst radius`, `perimeter`, `area`, and also **`concavity` ↔ `concave points` ↔ `compactness`**.  \n",
    "  → These groups are **highly collinear** (often |r| > 0.8).\n",
    "- **Fractal dimension** tends to be **negatively** related to some size/shape measures.\n",
    "- **Texture/smoothness** features show more moderate correlations with others.\n",
    "\n",
    "**Why it matters (modeling implications)**\n",
    "- High multicollinearity can make **linear/logistic regression coefficients unstable** and inflate variance.\n",
    "- **Tree-based models** care less about multicollinearity, but redundant features can still add noise and cost.\n",
    "\n",
    "**What to do next**\n",
    "- If |r| **> 0.8**, consider **keeping one feature** from the group (e.g., choose `mean radius` or `mean perimeter`, not both), or use **PCA** to combine them.\n",
    "- Use **regularization** (Ridge/Lasso/Elastic Net) or check **VIF** to quantify multicollinearity.\n",
    "- Remember: **correlation ≠ causation** and captures only **linear** relationships.\n",
    "\n",
    "> The heatmap reveals clusters of highly related features—use this to reduce redundancy and stabilize your models."
   ]
  },
  {
   "cell_type": "markdown",
   "id": "8d0b755f",
   "metadata": {},
   "source": [
    "Why Check Correlations?\n",
    "\n",
    "1.\tDetect Multicollinearity:\n",
    "\tHighly correlated features can lead to multicollinearity, especially in linear models such as linear or logistic regression. Multicollinearity can cause problems in model interpretation and reduce the predictive power of the model.\n",
    "2.\tFeature Selection:\n",
    "\tIf two features are highly correlated (close to 1 or -1), one of them may be redundant, and removing one may help in reducing overfitting and improving model performance.\n",
    "3.\tInsights into Feature Relationships:\n",
    "\tCorrelation matrices provide insights into how features are related. For instance, a strong positive correlation between two features might suggest a causal relationship or indicate that they are capturing similar information."
   ]
  },
  {
   "cell_type": "markdown",
   "id": "1ad72860",
   "metadata": {},
   "source": [
    "## What to do with this correlation matrix (practical next step)\n",
    "\n",
    "**Rule of thumb**\n",
    "- If using **linear/logistic regression** (without strong regularization): **drop one feature from any pair with |r| ≥ 0.9** (or 0.85).  \n",
    "- If using **Ridge/Lasso/Elastic Net**: you may **keep** them—regularization will shrink/choose.  \n",
    "- If using **tree-based models** (RF/GBDT): usually **keep**; trees handle multicollinearity well, but you can drop for speed."
   ]
  },
  {
   "cell_type": "markdown",
   "id": "7b5678ab",
   "metadata": {},
   "source": [
    "## Step 4: Data Cleaning\n",
    "\n",
    "No missing values detected in this dataset, so we can move forward without imputation."
   ]
  },
  {
   "cell_type": "markdown",
   "id": "6e232164",
   "metadata": {},
   "source": [
    "## Step 5: Feature Engineering\n",
    "\n",
    "We will use **StandardScaler** to scale the numerical features. This is important for algorithms like Logistic Regression which are sensitive to the magnitude of features."
   ]
  },
  {
   "cell_type": "code",
   "execution_count": 58,
   "id": "3393be0c",
   "metadata": {},
   "outputs": [],
   "source": [
    "# Initialize the scaler\n",
    "scaler = StandardScaler()"
   ]
  },
  {
   "cell_type": "code",
   "execution_count": 59,
   "id": "95037057",
   "metadata": {},
   "outputs": [],
   "source": [
    "# Fit and transform the features\n",
    "X_scaled = scaler.fit_transform(X)"
   ]
  },
  {
   "cell_type": "markdown",
   "id": "19c77db9",
   "metadata": {},
   "source": [
    "## Step 6: Model Selection and Training"
   ]
  },
  {
   "cell_type": "code",
   "execution_count": 60,
   "id": "731269c0",
   "metadata": {},
   "outputs": [],
   "source": [
    "# Split the data into training and testing sets\n",
    "X_train, X_test, y_train, y_test = train_test_split(X_scaled, y, test_size=0.2, random_state=42)"
   ]
  },
  {
   "cell_type": "code",
   "execution_count": 61,
   "id": "a0ebc805",
   "metadata": {},
   "outputs": [],
   "source": [
    "# Initialize Logistic Regression model\n",
    "logreg = LogisticRegression(max_iter=200)"
   ]
  },
  {
   "cell_type": "code",
   "execution_count": 62,
   "id": "c381a3f2",
   "metadata": {},
   "outputs": [
    {
     "data": {
      "text/plain": [
       "LogisticRegression(max_iter=200)"
      ]
     },
     "execution_count": 62,
     "metadata": {},
     "output_type": "execute_result"
    }
   ],
   "source": [
    "# Train the model\n",
    "logreg.fit(X_train, y_train)"
   ]
  },
  {
   "cell_type": "markdown",
   "id": "6cc1046a",
   "metadata": {},
   "source": [
    "## Step 7: Model Evaluation"
   ]
  },
  {
   "cell_type": "code",
   "execution_count": 63,
   "id": "3d0c50ec",
   "metadata": {},
   "outputs": [],
   "source": [
    "# Make predictions on the test data\n",
    "y_pred = logreg.predict(X_test)"
   ]
  },
  {
   "cell_type": "code",
   "execution_count": 64,
   "id": "b1c5c558",
   "metadata": {},
   "outputs": [
    {
     "name": "stdout",
     "output_type": "stream",
     "text": [
      "Accuracy of Logistic Regression: 97.37%\n"
     ]
    }
   ],
   "source": [
    "# Evaluate the model using accuracy score\n",
    "accuracy = accuracy_score(y_test, y_pred)\n",
    "print(f\"Accuracy of Logistic Regression: {accuracy * 100:.2f}%\")"
   ]
  },
  {
   "cell_type": "code",
   "execution_count": 66,
   "id": "6891b2dc",
   "metadata": {},
   "outputs": [
    {
     "data": {
      "image/png": "[encoded data removed]",
      "text/plain": [
       "<Figure size 432x288 with 2 Axes>"
      ]
     },
     "metadata": {
      "needs_background": "light"
     },
     "output_type": "display_data"
    }
   ],
   "source": [
    "# Confusion Matrix\n",
    "conf_matrix = confusion_matrix(y_test, y_pred)\n",
    "sns.heatmap(conf_matrix, annot=True, fmt='d', cmap='Blues', xticklabels=['Benign', 'Malignant'], yticklabels=['Benign', 'Malignant'])\n",
    "plt.title(\"Confusion Matrix (Logistic Regression - Breast Cancer Dataset)\")\n",
    "plt.xlabel(\"Predicted\")\n",
    "plt.ylabel(\"Actual\")\n",
    "plt.show()"
   ]
  },
  {
   "cell_type": "code",
   "execution_count": 67,
   "id": "64426d77",
   "metadata": {},
   "outputs": [
    {
     "name": "stdout",
     "output_type": "stream",
     "text": [
      "Classification Report:\n",
      "\n",
      "              precision    recall  f1-score   support\n",
      "\n",
      "      Benign       0.98      0.95      0.96        43\n",
      "   Malignant       0.97      0.99      0.98        71\n",
      "\n",
      "    accuracy                           0.97       114\n",
      "   macro avg       0.97      0.97      0.97       114\n",
      "weighted avg       0.97      0.97      0.97       114\n",
      "\n"
     ]
    }
   ],
   "source": [
    "# Classification Report\n",
    "class_report = classification_report(y_test, y_pred, target_names=['Benign', 'Malignant'])\n",
    "print(\"Classification Report:\\n\")\n",
    "print(class_report)"
   ]
  },
  {
   "cell_type": "markdown",
   "id": "51072b24",
   "metadata": {},
   "source": [
    "## Step 8: Fine-Tuning the Model\n",
    "We'll use __GridSearchCV__ to find the best hyperparameters for Logistic Regression"
   ]
  },
  {
   "cell_type": "code",
   "execution_count": 68,
   "id": "98376b70",
   "metadata": {},
   "outputs": [],
   "source": [
    "# Set up the parameter grid for tuning\n",
    "# param_grid is a list of dictionaries.\n",
    "# Each dictionary defines a sub-grid of hyperparameter combinations that GridSearchCV will try.\n",
    "param_grid = [\n",
    "    {'C': [0.1, 1, 10, 100], 'solver': ['lbfgs'], 'max_iter': [200]}, \n",
    "    {'C': [0.1, 1, 10], 'solver': ['liblinear'], 'max_iter': [200]} \n",
    "] \n",
    "# Smaller C: stronger regularization (simpler, less overfit). \n",
    "# Larger C: weaker regularization (more flexible, may overfit)."
   ]
  },
  {
   "cell_type": "code",
   "execution_count": 69,
   "id": "c867a741",
   "metadata": {},
   "outputs": [
    {
     "data": {
      "text/plain": [
       "GridSearchCV(cv=5, estimator=LogisticRegression(max_iter=200),\n",
       "             param_grid=[{'C': [0.1, 1, 10, 100], 'max_iter': [200],\n",
       "                          'solver': ['lbfgs']},\n",
       "                         {'C': [0.1, 1, 10], 'max_iter': [200],\n",
       "                          'solver': ['liblinear']}],\n",
       "             scoring='accuracy')"
      ]
     },
     "execution_count": 69,
     "metadata": {},
     "output_type": "execute_result"
    }
   ],
   "source": [
    "# Perform GridSearchCV to find the best hyperparameters\n",
    "grid_search = GridSearchCV(logreg, param_grid, cv=5, scoring='accuracy')\n",
    "grid_search.fit(X_train, y_train)"
   ]
  },
  {
   "cell_type": "code",
   "execution_count": 70,
   "id": "2bbaa9f0",
   "metadata": {},
   "outputs": [
    {
     "name": "stdout",
     "output_type": "stream",
     "text": [
      "Best parameters: {'C': 0.1, 'max_iter': 200, 'solver': 'liblinear'}\n"
     ]
    }
   ],
   "source": [
    "# Best hyperparameters\n",
    "print(f\"Best parameters: {grid_search.best_params_}\")"
   ]
  },
  {
   "cell_type": "code",
   "execution_count": 71,
   "id": "2154218e",
   "metadata": {},
   "outputs": [],
   "source": [
    "# Evaluate the best model on the test set\n",
    "best_model = grid_search.best_estimator_\n",
    "y_pred_best = best_model.predict(X_test)"
   ]
  },
  {
   "cell_type": "markdown",
   "id": "5bf47370",
   "metadata": {},
   "source": [
    "## Step 9: Re-evaluate using best model"
   ]
  },
  {
   "cell_type": "code",
   "execution_count": 72,
   "id": "863f39a5",
   "metadata": {},
   "outputs": [
    {
     "name": "stdout",
     "output_type": "stream",
     "text": [
      "Accuracy of Optimized Logistic Regression: 99.12%\n"
     ]
    }
   ],
   "source": [
    "# Recalculate accuracy using the best model\n",
    "accuracy_best = accuracy_score(y_test, y_pred_best)\n",
    "print(f\"Accuracy of Optimized Logistic Regression: {accuracy_best * 100:.2f}%\")"
   ]
  },
  {
   "cell_type": "code",
   "execution_count": 73,
   "id": "d8168288",
   "metadata": {},
   "outputs": [
    {
     "data": {
      "image/png": "[encoded data removed]",
      "text/plain": [
       "<Figure size 432x288 with 2 Axes>"
      ]
     },
     "metadata": {
      "needs_background": "light"
     },
     "output_type": "display_data"
    }
   ],
   "source": [
    "# Final confusion matrix and classification report\n",
    "conf_matrix_best = confusion_matrix(y_test, y_pred_best)\n",
    "sns.heatmap(conf_matrix_best, annot=True, fmt='d', cmap='Greens', xticklabels=['Benign', 'Malignant'], yticklabels=['Benign', 'Malignant'])\n",
    "plt.title(\"Confusion Matrix (Optimized Logistic Regression)\")\n",
    "plt.xlabel(\"Predicted\")\n",
    "plt.ylabel(\"Actual\")\n",
    "plt.show()"
   ]
  },
  {
   "cell_type": "code",
   "execution_count": 74,
   "id": "46b01339",
   "metadata": {},
   "outputs": [
    {
     "name": "stdout",
     "output_type": "stream",
     "text": [
      "Classification Report for Optimized Model:\n",
      "\n",
      "              precision    recall  f1-score   support\n",
      "\n",
      "      Benign       1.00      0.98      0.99        43\n",
      "   Malignant       0.99      1.00      0.99        71\n",
      "\n",
      "    accuracy                           0.99       114\n",
      "   macro avg       0.99      0.99      0.99       114\n",
      "weighted avg       0.99      0.99      0.99       114\n",
      "\n"
     ]
    }
   ],
   "source": [
    "# Classification Report for Optimized Model\n",
    "class_report_best = classification_report(y_test, y_pred_best, target_names=['Benign', 'Malignant'])\n",
    "print(\"Classification Report for Optimized Model:\\n\")\n",
    "print(class_report_best)"
   ]
  },
  {
   "cell_type": "markdown",
   "id": "8eaaff2a",
   "metadata": {},
   "source": [
    "## Step 10: Conclusion\n",
    "\n",
    "In this end-to-end machine learning project, we successfully built a classification model to detect whether a tumor is benign or malignant using the Breast Cancer Wisconsin dataset. We explored the data, applied feature scaling,trained a Logistic Regression model, and fine-tuned it using GridSearchCV.\n",
    "\n",
    "The final model achieved over __95%__ accuracy, making it highly effective in detecting malignant tumors."
   ]
  }
 ],
 "metadata": {
  "kernelspec": {
   "display_name": "Python 3",
   "language": "python",
   "name": "python3"
  },
  "language_info": {
   "codemirror_mode": {
    "name": "ipython",
    "version": 3
   },
   "file_extension": ".py",
   "mimetype": "text/x-python",
   "name": "python",
   "nbconvert_exporter": "python",
   "pygments_lexer": "ipython3",
   "version": "3.8.8"
  }
 },
 "nbformat": 4,
 "nbformat_minor": 5
}
