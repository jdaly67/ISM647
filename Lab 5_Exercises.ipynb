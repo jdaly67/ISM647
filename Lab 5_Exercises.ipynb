{
 "cells": [
  {
   "cell_type": "markdown",
   "id": "d926fc22",
   "metadata": {},
   "source": [
    "# Week 7: Visualization with Matplotlib \n",
    "**Instructor** Dr. Shimi Zhou\n",
    "\n",
    "**Course:** ISM 645\n",
    "\n",
    "### Learning Outcomes\n",
    "1) Build line, scatter, histogram, error bar, density/contour, and simple 3D plots.  \n",
    "2) Customize titles, labels, legends, ticks, annotations, axis limits, and scales.  \n",
    "3) Understand the difference between Pyplot and the OO (object-oriented) interface.  \n",
    "4) Save high-resolution figures for reports."
   ]
  },
  {
   "cell_type": "markdown",
   "id": "f490211f",
   "metadata": {},
   "source": [
    "## Setup (Run first)"
   ]
  },
  {
   "cell_type": "code",
   "execution_count": null,
   "id": "39467c10",
   "metadata": {},
   "outputs": [],
   "source": [
    "import numpy as np\n",
    "import pandas as pd\n",
    "import matplotlib.pyplot as plt\n",
    "\n",
    "%matplotlib inline\n",
    "rng = np.random.default_rng(42)"
   ]
  },
  {
   "cell_type": "markdown",
   "id": "d53ac6e4",
   "metadata": {},
   "source": [
    "# Part A — Line Plots (Pyplot)\n",
    "We'll start with 1D functions and gradually add features."
   ]
  },
  {
   "cell_type": "markdown",
   "id": "3e146ed3",
   "metadata": {},
   "source": [
    "### A1. Sine curve — basic line plot"
   ]
  },
  {
   "cell_type": "code",
   "execution_count": null,
   "id": "599f0378",
   "metadata": {},
   "outputs": [],
   "source": [
    "# TODO A1.1: Create x from 0 to 2π (100 points) and y = sin(x)\n",
    "# x = ...\n",
    "# y = ..."
   ]
  },
  {
   "cell_type": "code",
   "execution_count": null,
   "id": "d6ef70fb",
   "metadata": {},
   "outputs": [],
   "source": [
    "# TODO A1.2: Plot y vs x with title and axis labels, then show\n",
    "# plt.plot(...)\n",
    "# plt.title('Sine Wave')\n",
    "# plt.xlabel('x (radians)')\n",
    "# plt.ylabel('sin(x)')\n",
    "# plt.show()"
   ]
  },
  {
   "cell_type": "markdown",
   "id": "04888c36",
   "metadata": {},
   "source": [
    "### A2. Two series on the same axes (sin & cos) + legend"
   ]
  },
  {
   "cell_type": "code",
   "execution_count": null,
   "id": "97f322bc",
   "metadata": {},
   "outputs": [],
   "source": [
    "# TODO A2.1: Define y2 = cos(x)\n",
    "# y2 = ..."
   ]
  },
  {
   "cell_type": "code",
   "execution_count": null,
   "id": "c88b2265",
   "metadata": {},
   "outputs": [],
   "source": [
    "# TODO A2.2: Plot sin(x) and cos(x) with different linestyles/markers; add legend and labels\n",
    "# plt.plot(..., marker='o', label='sin(x)')\n",
    "# plt.plot(..., linestyle='--', marker='s', label='cos(x)')\n",
    "# plt.legend()\n",
    "# plt.title('sin vs cos')\n",
    "# plt.xlabel('x (radians)')\n",
    "# plt.ylabel('value')\n",
    "# plt.show()"
   ]
  },
  {
   "cell_type": "markdown",
   "id": "d817ed81",
   "metadata": {},
   "source": [
    "### A3. Area shading with `fill_between` (uncertainty band)"
   ]
  },
  {
   "cell_type": "code",
   "execution_count": null,
   "id": "89cd5840",
   "metadata": {},
   "outputs": [],
   "source": [
    "# TODO A3.1: Make a base curve yb = np.sin(x) and upper/lower bounds +/- 0.2\n",
    "# yb = ...\n",
    "# lower = ...\n",
    "# upper = ..."
   ]
  },
  {
   "cell_type": "code",
   "execution_count": null,
   "id": "9b507dd5",
   "metadata": {},
   "outputs": [],
   "source": [
    "# TODO A3.2: Plot the base line and shade the area between lower and upper (no explicit colors)\n",
    "# plt.plot(x, yb, label='signal')\n",
    "# plt.fill_between(x, lower, upper, alpha=0.3, label='±0.2 band')\n",
    "# plt.legend()\n",
    "# plt.title('Sine with Uncertainty Band')\n",
    "# plt.xlabel('x')\n",
    "# plt.ylabel('value')\n",
    "# plt.show()"
   ]
  },
  {
   "cell_type": "markdown",
   "id": "826d7a69",
   "metadata": {},
   "source": [
    "### A4. Axis limits and scaling"
   ]
  },
  {
   "cell_type": "code",
   "execution_count": null,
   "id": "282e7a2f",
   "metadata": {},
   "outputs": [],
   "source": [
    "# TODO A4.1: Create x2 = np.linspace(1, 10, 200), y2 = np.exp(0.3*x2)\n",
    "# x2 = ...\n",
    "# y2 = ..."
   ]
  },
  {
   "cell_type": "code",
   "execution_count": null,
   "id": "000f9faa",
   "metadata": {},
   "outputs": [],
   "source": [
    "# TODO A4.2: Plot y2 vs x2, then set y-axis to log scale\n",
    "# plt.plot(x2, y2)\n",
    "# plt.yscale('log')\n",
    "# plt.title('Exponential Growth (log scale)')\n",
    "# plt.xlabel('x')\n",
    "# plt.ylabel('exp(0.3x)')\n",
    "# plt.show()"
   ]
  },
  {
   "cell_type": "markdown",
   "id": "47a91120",
   "metadata": {},
   "source": [
    "# Part B — Annotations & Ticks\n",
    "Practice pointing out features and improving readability."
   ]
  },
  {
   "cell_type": "markdown",
   "id": "79f4f7d3",
   "metadata": {},
   "source": [
    "### B1. Annotate max/min points"
   ]
  },
  {
   "cell_type": "code",
   "execution_count": null,
   "id": "f470a58f",
   "metadata": {},
   "outputs": [],
   "source": [
    "# TODO B1.1: Using y=sin(x), find indices of its max and min\n",
    "# idx_max = ...\n",
    "# idx_min = ...\n",
    "# x_max, y_max = ...\n",
    "# x_min, y_min = ..."
   ]
  },
  {
   "cell_type": "code",
   "execution_count": null,
   "id": "51796277",
   "metadata": {},
   "outputs": [],
   "source": [
    "# TODO B1.2: Plot sin(x), annotate both points with arrows, rotate ticks 45°, grid on\n",
    "# plt.plot(...)\n",
    "# plt.annotate('max', xy=(x_max, y_max), xytext=(x_max+0.3, y_max-0.3),\n",
    "#              arrowprops=dict(arrowstyle='->'))\n",
    "# plt.annotate('min', xy=(x_min, y_min), xytext=(x_min+0.3, y_min+0.3),\n",
    "#              arrowprops=dict(arrowstyle='->'))\n",
    "# plt.xticks(rotation=45)\n",
    "# plt.grid(True)\n",
    "# plt.title('Sine with max/min annotations')\n",
    "# plt.show()"
   ]
  },
  {
   "cell_type": "markdown",
   "id": "4c46d8e8",
   "metadata": {},
   "source": [
    "### B2. Custom tick locations and labels"
   ]
  },
  {
   "cell_type": "code",
   "execution_count": null,
   "id": "3965a486",
   "metadata": {},
   "outputs": [],
   "source": [
    "# TODO B2.1: Choose tick positions at 0, π/2, π, 3π/2, 2π (use np.pi)\n",
    "# ticks = ...\n",
    "# labels = ['0', 'π/2', 'π', '3π/2', '2π']"
   ]
  },
  {
   "cell_type": "code",
   "execution_count": null,
   "id": "1f88667e",
   "metadata": {},
   "outputs": [],
   "source": [
    "# TODO B2.2: Plot sin(x) and set custom tick positions/labels on the x-axis\n",
    "# plt.plot(x, y)\n",
    "# plt.xticks(ticks, labels)\n",
    "# plt.title('Custom x-ticks (radian landmarks)')\n",
    "# plt.xlabel('x (radians)')\n",
    "# plt.ylabel('sin(x)')\n",
    "# plt.grid(True)\n",
    "# plt.show()"
   ]
  },
  {
   "cell_type": "markdown",
   "id": "9fce5ba2",
   "metadata": {},
   "source": [
    "# Part C — Scatter (with size and trendline)\n",
    "We'll simulate correlated data and add a fitted trend."
   ]
  },
  {
   "cell_type": "markdown",
   "id": "e00e49ca",
   "metadata": {},
   "source": [
    "### C1. Correlated height–weight with size mapped to age"
   ]
  },
  {
   "cell_type": "code",
   "execution_count": null,
   "id": "e9b39fe2",
   "metadata": {},
   "outputs": [],
   "source": [
    "# TODO C1.1: Generate n=200 heights (cm) ~ N(170,10), base weight = 0.45*height-5, weights ~ N(base, 8)\n",
    "# Also ages ~ Uniform(18,65).\n",
    "# n = ...\n",
    "# heights = ...\n",
    "# base_w = ...\n",
    "# weights = ...\n",
    "# ages = ..."
   ]
  },
  {
   "cell_type": "code",
   "execution_count": null,
   "id": "1002d6cf",
   "metadata": {},
   "outputs": [],
   "source": [
    "# TODO C1.2: Scatter height vs weight, set s=ages (size encodes age), label axes/title\n",
    "# plt.scatter(...)\n",
    "# plt.xlabel('Height (cm)')\n",
    "# plt.ylabel('Weight (kg)')\n",
    "# plt.title('Height vs Weight (marker size ~ age)')\n",
    "# plt.show()"
   ]
  },
  {
   "cell_type": "markdown",
   "id": "308f124d",
   "metadata": {},
   "source": [
    "### C2. Add a trendline (1st-degree polynomial fit)"
   ]
  },
  {
   "cell_type": "code",
   "execution_count": null,
   "id": "f23eb593",
   "metadata": {},
   "outputs": [],
   "source": [
    "# TODO C2.1: Fit a line weight ~ a*height + b using np.polyfit, then plot points + fitted line\n",
    "# coefs = np.polyfit(heights, weights, deg=1)\n",
    "# a, b = coefs\n",
    "# xs = np.linspace(heights.min(), heights.max(), 200)\n",
    "# ys = a*xs + b\n",
    "# plt.scatter(heights, weights, alpha=0.7)\n",
    "# plt.plot(xs, ys, linewidth=2)\n",
    "# plt.title('Trendline via polyfit')\n",
    "# plt.xlabel('Height (cm)')\n",
    "# plt.ylabel('Weight (kg)')\n",
    "# plt.show()"
   ]
  },
  {
   "cell_type": "markdown",
   "id": "4bda782d",
   "metadata": {},
   "source": [
    "# Part D — Error Bars\n",
    "Communicate variability or measurement uncertainty."
   ]
  },
  {
   "cell_type": "markdown",
   "id": "754def4a",
   "metadata": {},
   "source": [
    "### D1. Symmetric y-error"
   ]
  },
  {
   "cell_type": "code",
   "execution_count": null,
   "id": "27bb9a28",
   "metadata": {},
   "outputs": [],
   "source": [
    "# TODO D1.1: Build x from 0..10 (15 pts), y = 2x + noise, yerr ~ Uniform(0.5,1.5)\n",
    "# x_e = ...\n",
    "# y_true = ...\n",
    "# noise = ...\n",
    "# y_obs = ...\n",
    "# yerr = ..."
   ]
  },
  {
   "cell_type": "code",
   "execution_count": null,
   "id": "448d5364",
   "metadata": {},
   "outputs": [],
   "source": [
    "# TODO D1.2: Plot with plt.errorbar(..., yerr=yerr, fmt='-o', capsize=3)\n",
    "# plt.errorbar(...)\n",
    "# plt.title('Error Bars (symmetric)')\n",
    "# plt.xlabel('x')\n",
    "# plt.ylabel('y')\n",
    "# plt.show()"
   ]
  },
  {
   "cell_type": "markdown",
   "id": "9fd319d1",
   "metadata": {},
   "source": [
    "### D2. Asymmetric y-error"
   ]
  },
  {
   "cell_type": "code",
   "execution_count": null,
   "id": "adc241b0",
   "metadata": {},
   "outputs": [],
   "source": [
    "# TODO D2.1: Build separate lower/upper error arrays and pass [lower, upper] to yerr\n",
    "# lower = ...\n",
    "# upper = ..."
   ]
  },
  {
   "cell_type": "code",
   "execution_count": null,
   "id": "08a10ad9",
   "metadata": {},
   "outputs": [],
   "source": [
    "# TODO D2.2: Plot with asymmetric errors\n",
    "# plt.errorbar(x_e, y_obs, yerr=[lower, upper], fmt='o', capsize=3)\n",
    "# plt.title('Error Bars (asymmetric)')\n",
    "# plt.xlabel('x')\n",
    "# plt.ylabel('y')\n",
    "# plt.show()"
   ]
  },
  {
   "cell_type": "markdown",
   "id": "a46768da",
   "metadata": {},
   "source": [
    "# Part E — Histograms\n",
    "Understand binning, normalization, and cumulative counts."
   ]
  },
  {
   "cell_type": "markdown",
   "id": "99e1a87b",
   "metadata": {},
   "source": [
    "### E1. Basic histogram"
   ]
  },
  {
   "cell_type": "code",
   "execution_count": null,
   "id": "f3b940ab",
   "metadata": {},
   "outputs": [],
   "source": [
    "# TODO E1.1: Simulate 1,000 samples from N(0,1) and plot a 30-bin histogram\n",
    "# data = ...\n",
    "# plt.hist(..., bins=30)\n",
    "# plt.title('Histogram (30 bins)')\n",
    "# plt.xlabel('Value')\n",
    "# plt.ylabel('Frequency')\n",
    "# plt.show()"
   ]
  },
  {
   "cell_type": "markdown",
   "id": "5a6f8505",
   "metadata": {},
   "source": [
    "### E2. Effect of bin count (10 vs 50) — make two separate figures"
   ]
  },
  {
   "cell_type": "code",
   "execution_count": null,
   "id": "bf484f11",
   "metadata": {},
   "outputs": [],
   "source": [
    "# TODO E2.1: Plot the same data with 10 bins\n",
    "# plt.hist(..., bins=10)\n",
    "# plt.title('Histogram (10 bins)')\n",
    "# plt.xlabel('Value')\n",
    "# plt.ylabel('Frequency')\n",
    "# plt.show()"
   ]
  },
  {
   "cell_type": "code",
   "execution_count": null,
   "id": "cfb1ebd9",
   "metadata": {},
   "outputs": [],
   "source": [
    "# TODO E2.2: Plot the same data with 50 bins\n",
    "# plt.hist(..., bins=50)\n",
    "# plt.title('Histogram (50 bins)')\n",
    "# plt.xlabel('Value')\n",
    "# plt.ylabel('Frequency')\n",
    "# plt.show()"
   ]
  },
  {
   "cell_type": "markdown",
   "id": "5f063b87",
   "metadata": {},
   "source": [
    "### E3. Density normalization and cumulative histogram"
   ]
  },
  {
   "cell_type": "code",
   "execution_count": null,
   "id": "24503887",
   "metadata": {},
   "outputs": [],
   "source": [
    "# TODO E3.1: Plot a density-normalized histogram (density=True)\n",
    "# plt.hist(..., bins=30, density=True)\n",
    "# plt.title('Density-normalized Histogram')\n",
    "# plt.xlabel('Value')\n",
    "# plt.ylabel('Density')\n",
    "# plt.show()"
   ]
  },
  {
   "cell_type": "code",
   "execution_count": null,
   "id": "c064c36c",
   "metadata": {},
   "outputs": [],
   "source": [
    "# TODO E3.2: Plot a cumulative histogram\n",
    "# plt.hist(..., bins=30, cumulative=True)\n",
    "# plt.title('Cumulative Histogram')\n",
    "# plt.xlabel('Value')\n",
    "# plt.ylabel('Cumulative Count')\n",
    "# plt.show()"
   ]
  },
  {
   "cell_type": "markdown",
   "id": "bb4ab9bf",
   "metadata": {},
   "source": [
    "# Part F — Density & Contour (2D functions)\n",
    "Visualize z = f(x,y) using contour lines and filled contours."
   ]
  },
  {
   "cell_type": "markdown",
   "id": "0e87502b",
   "metadata": {},
   "source": [
    "### F1. Contour of sin(x)*cos(y)"
   ]
  },
  {
   "cell_type": "code",
   "execution_count": null,
   "id": "3f3aaa27",
   "metadata": {},
   "outputs": [],
   "source": [
    "# TODO F1.1: Create grids X,Y on [-3,3], Z = sin(X)*cos(Y)\n",
    "# xs = ...\n",
    "# ys = ...\n",
    "# X, Y = ...\n",
    "# Z = ..."
   ]
  },
  {
   "cell_type": "code",
   "execution_count": null,
   "id": "fdf3cb6b",
   "metadata": {},
   "outputs": [],
   "source": [
    "# TODO F1.2: Draw contour with ~10 levels and label them\n",
    "# cs = plt.contour(X, Y, Z, levels=10)\n",
    "# plt.clabel(cs, inline=True, fontsize=8)\n",
    "# plt.title('Contour: sin(x)*cos(y)')\n",
    "# plt.xlabel('x')\n",
    "# plt.ylabel('y')\n",
    "# plt.show()"
   ]
  },
  {
   "cell_type": "markdown",
   "id": "69c562e6",
   "metadata": {},
   "source": [
    "### F2. Filled contour and image view"
   ]
  },
  {
   "cell_type": "code",
   "execution_count": null,
   "id": "a6fc9347",
   "metadata": {},
   "outputs": [],
   "source": [
    "# TODO F2.1: Filled contour (levels~20)\n",
    "# plt.contourf(X, Y, Z, levels=20)\n",
    "# plt.title('Filled Contour')\n",
    "# plt.xlabel('x')\n",
    "# plt.ylabel('y')\n",
    "# plt.show()"
   ]
  },
  {
   "cell_type": "code",
   "execution_count": null,
   "id": "63a1c977",
   "metadata": {},
   "outputs": [],
   "source": [
    "# TODO F2.2: Show Z with imshow (careful with origin and extent)\n",
    "# plt.imshow(Z, origin='lower', extent=[X.min(), X.max(), Y.min(), Y.max()], aspect='auto')\n",
    "# plt.title('imshow of Z')\n",
    "# plt.xlabel('x')\n",
    "# plt.ylabel('y')\n",
    "# plt.show()"
   ]
  },
  {
   "cell_type": "markdown",
   "id": "a5ad3e32",
   "metadata": {},
   "source": [
    "# Part G — Object-Oriented (OO) Interface\n",
    "Re-create a plot using `fig, ax = plt.subplots()` and `ax.plot(...)`."
   ]
  },
  {
   "cell_type": "markdown",
   "id": "e78176ab",
   "metadata": {},
   "source": [
    "### G1. OO: sin & cos in one axes"
   ]
  },
  {
   "cell_type": "code",
   "execution_count": null,
   "id": "3750a1e5",
   "metadata": {},
   "outputs": [],
   "source": [
    "# TODO G1.1: Build a single-axes figure and plot sin/cos, add labels/legend via ax.* methods\n",
    "# fig, ax = plt.subplots()\n",
    "# ax.plot(..., marker='o', label='sin(x)')\n",
    "# ax.plot(..., linestyle='--', marker='s', label='cos(x)')\n",
    "# ax.set_title('OO sin vs cos')\n",
    "# ax.set_xlabel('x (radians)')\n",
    "# ax.set_ylabel('value')\n",
    "# ax.legend()\n",
    "# plt.show()"
   ]
  },
  {
   "cell_type": "markdown",
   "id": "1054e532",
   "metadata": {},
   "source": [
    "# Part H — 3D Surface/Wireframe\n",
    "Use a simple radial function z = sin(r)/r."
   ]
  },
  {
   "cell_type": "markdown",
   "id": "6d54023b",
   "metadata": {},
   "source": [
    "### H1. 3D surface"
   ]
  },
  {
   "cell_type": "code",
   "execution_count": null,
   "id": "c161fc2e",
   "metadata": {},
   "outputs": [],
   "source": [
    "# TODO H1.1: Prepare grid on [-5,5], compute R = sqrt(X^2 + Y^2)+1e-9, Z = sin(R)/R, then surface plot\n",
    "# from mpl_toolkits.mplot3d import Axes3D  # noqa: F401\n",
    "# xs3 = ...\n",
    "# ys3 = ...\n",
    "# X3, Y3 = ...\n",
    "# R = ...\n",
    "# Z3 = ...\n",
    "# fig = plt.figure()\n",
    "# ax = fig.add_subplot(111, projection='3d')\n",
    "# ax.plot_surface(X3, Y3, Z3)\n",
    "# ax.set_title('3D Surface: sin(r)/r')\n",
    "# plt.show()"
   ]
  },
  {
   "cell_type": "markdown",
   "id": "f8594453",
   "metadata": {},
   "source": [
    "### H2. 3D wireframe (separate figure)"
   ]
  },
  {
   "cell_type": "code",
   "execution_count": null,
   "id": "7c8bc90d",
   "metadata": {},
   "outputs": [],
   "source": [
    "# TODO H2.1: Draw a wireframe of the same surface\n",
    "# fig = plt.figure()\n",
    "# ax = fig.add_subplot(111, projection='3d')\n",
    "# ax.plot_wireframe(X3, Y3, Z3)\n",
    "# ax.set_title('3D Wireframe: sin(r)/r')\n",
    "# plt.show()"
   ]
  },
  {
   "cell_type": "markdown",
   "id": "c247dae4",
   "metadata": {},
   "source": [
    "# Part I — Saving Figures\n",
    "Always save **before** show; use dpi=300 for documents."
   ]
  },
  {
   "cell_type": "markdown",
   "id": "e54a02e7",
   "metadata": {},
   "source": [
    "### I1. Save a plot to PNG"
   ]
  },
  {
   "cell_type": "code",
   "execution_count": null,
   "id": "e2bd89d9",
   "metadata": {},
   "outputs": [],
   "source": [
    "# TODO I1.1: Recreate a simple line plot and save as 'week7_fig.png' with dpi=300, then show\n",
    "# plt.plot(x, y)\n",
    "# plt.title('My Saved Figure')\n",
    "# plt.xlabel('x')\n",
    "# plt.ylabel('sin(x)')\n",
    "# plt.savefig('week7_fig.png', dpi=300)\n",
    "# plt.show()"
   ]
  },
  {
   "cell_type": "markdown",
   "id": "01228e89",
   "metadata": {},
   "source": [
    "---\n",
    "**End of Lab (Student Version v2)**  \n",
    "Tip: If outputs look odd, re-run the Setup cell and the specific section."
   ]
  }
 ],
 "metadata": {
  "kernelspec": {
   "display_name": "Python 3",
   "language": "python",
   "name": "python3"
  },
  "language_info": {
   "codemirror_mode": {
    "name": "ipython",
    "version": 3
   },
   "file_extension": ".py",
   "mimetype": "text/x-python",
   "name": "python",
   "nbconvert_exporter": "python",
   "pygments_lexer": "ipython3",
   "version": "3.8.8"
  }
 },
 "nbformat": 4,
 "nbformat_minor": 5
}
